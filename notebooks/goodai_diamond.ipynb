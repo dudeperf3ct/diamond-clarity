{
  "nbformat": 4,
  "nbformat_minor": 0,
  "metadata": {
    "colab": {
      "name": "goodai_diamond",
      "provenance": [],
      "collapsed_sections": []
    },
    "kernelspec": {
      "name": "python3",
      "display_name": "Python 3"
    },
    "language_info": {
      "name": "python"
    },
    "accelerator": "GPU"
  },
  "cells": [
    {
      "cell_type": "code",
      "metadata": {
        "id": "Wf9DhYH3rMeM"
      },
      "source": [
        "!git clone https://github.com/dudeperf3ct/diamond-clarity.git\n",
        "%cd diamond-clarity\n",
        "!git checkout tf_train"
      ],
      "execution_count": null,
      "outputs": []
    },
    {
      "cell_type": "code",
      "metadata": {
        "id": "u7gKFBkhtI1C"
      },
      "source": [
        "!pip install gdown\n",
        "!mkdir dataset\n",
        "!gdown https://drive.google.com/uc?id=1juf4cc7_gFob3EeaxI8kDNnf7NiOckw4 -O dataset/round_all.zip\n",
        "!unzip dataset/round_all.zip -d dataset/round_all"
      ],
      "execution_count": null,
      "outputs": []
    },
    {
      "cell_type": "code",
      "metadata": {
        "colab": {
          "base_uri": "https://localhost:8080/"
        },
        "id": "PW-rNUBYvA7V",
        "outputId": "c3cd5e37-67bd-4a25-c9e1-5f8192198b24"
      },
      "source": [
        "# %cd diamond-clarity"
      ],
      "execution_count": 1,
      "outputs": [
        {
          "output_type": "stream",
          "name": "stdout",
          "text": [
            "/content/diamond-clarity\n"
          ]
        }
      ]
    },
    {
      "cell_type": "code",
      "metadata": {
        "id": "Vts-AePIrMgs"
      },
      "source": [
        "%run main.py"
      ],
      "execution_count": null,
      "outputs": []
    },
    {
      "cell_type": "code",
      "metadata": {
        "id": "zfXCvL7IFigx"
      },
      "source": [
        ""
      ],
      "execution_count": null,
      "outputs": []
    }
  ]
}