{
  "nbformat": 4,
  "nbformat_minor": 0,
  "metadata": {
    "colab": {
      "name": "goodai_diamond_pt.ipynb",
      "provenance": [],
      "collapsed_sections": []
    },
    "kernelspec": {
      "name": "python3",
      "display_name": "Python 3"
    },
    "language_info": {
      "name": "python"
    },
    "accelerator": "GPU",
    "widgets": {
      "application/vnd.jupyter.widget-state+json": {
        "4ecb0a3565c04fc0bf97832f794b57a4": {
          "model_module": "@jupyter-widgets/controls",
          "model_name": "VBoxModel",
          "model_module_version": "1.5.0",
          "state": {
            "_view_name": "VBoxView",
            "_dom_classes": [],
            "_model_name": "VBoxModel",
            "_view_module": "@jupyter-widgets/controls",
            "_model_module_version": "1.5.0",
            "_view_count": null,
            "_view_module_version": "1.5.0",
            "box_style": "",
            "layout": "IPY_MODEL_7625387cf27c480893dbb1638da3149a",
            "_model_module": "@jupyter-widgets/controls",
            "children": [
              "IPY_MODEL_770986b6484a429188617bd627780d99",
              "IPY_MODEL_bd648947434c44e2a1c0dd2509013826"
            ]
          }
        },
        "7625387cf27c480893dbb1638da3149a": {
          "model_module": "@jupyter-widgets/base",
          "model_name": "LayoutModel",
          "model_module_version": "1.2.0",
          "state": {
            "_view_name": "LayoutView",
            "grid_template_rows": null,
            "right": null,
            "justify_content": null,
            "_view_module": "@jupyter-widgets/base",
            "overflow": null,
            "_model_module_version": "1.2.0",
            "_view_count": null,
            "flex_flow": null,
            "width": null,
            "min_width": null,
            "border": null,
            "align_items": null,
            "bottom": null,
            "_model_module": "@jupyter-widgets/base",
            "top": null,
            "grid_column": null,
            "overflow_y": null,
            "overflow_x": null,
            "grid_auto_flow": null,
            "grid_area": null,
            "grid_template_columns": null,
            "flex": null,
            "_model_name": "LayoutModel",
            "justify_items": null,
            "grid_row": null,
            "max_height": null,
            "align_content": null,
            "visibility": null,
            "align_self": null,
            "height": null,
            "min_height": null,
            "padding": null,
            "grid_auto_rows": null,
            "grid_gap": null,
            "max_width": null,
            "order": null,
            "_view_module_version": "1.2.0",
            "grid_template_areas": null,
            "object_position": null,
            "object_fit": null,
            "grid_auto_columns": null,
            "margin": null,
            "display": null,
            "left": null
          }
        },
        "770986b6484a429188617bd627780d99": {
          "model_module": "@jupyter-widgets/controls",
          "model_name": "LabelModel",
          "model_module_version": "1.5.0",
          "state": {
            "_view_name": "LabelView",
            "style": "IPY_MODEL_234b99015c494d06bd826dc67a7996ef",
            "_dom_classes": [],
            "description": "",
            "_model_name": "LabelModel",
            "placeholder": "​",
            "_view_module": "@jupyter-widgets/controls",
            "_model_module_version": "1.5.0",
            "value": " 1.26MB of 1.26MB uploaded (0.00MB deduped)\r",
            "_view_count": null,
            "_view_module_version": "1.5.0",
            "description_tooltip": null,
            "_model_module": "@jupyter-widgets/controls",
            "layout": "IPY_MODEL_67d7ff3b667a4ebd940feb87e3220703"
          }
        },
        "bd648947434c44e2a1c0dd2509013826": {
          "model_module": "@jupyter-widgets/controls",
          "model_name": "FloatProgressModel",
          "model_module_version": "1.5.0",
          "state": {
            "_view_name": "ProgressView",
            "style": "IPY_MODEL_dd3ebbad081f4e59a59d48b1f00b9975",
            "_dom_classes": [],
            "description": "",
            "_model_name": "FloatProgressModel",
            "bar_style": "",
            "max": 1,
            "_view_module": "@jupyter-widgets/controls",
            "_model_module_version": "1.5.0",
            "value": 1,
            "_view_count": null,
            "_view_module_version": "1.5.0",
            "orientation": "horizontal",
            "min": 0,
            "description_tooltip": null,
            "_model_module": "@jupyter-widgets/controls",
            "layout": "IPY_MODEL_7fc1d91ade224954ae1312c4fdf4e2e1"
          }
        },
        "234b99015c494d06bd826dc67a7996ef": {
          "model_module": "@jupyter-widgets/controls",
          "model_name": "DescriptionStyleModel",
          "model_module_version": "1.5.0",
          "state": {
            "_view_name": "StyleView",
            "_model_name": "DescriptionStyleModel",
            "description_width": "",
            "_view_module": "@jupyter-widgets/base",
            "_model_module_version": "1.5.0",
            "_view_count": null,
            "_view_module_version": "1.2.0",
            "_model_module": "@jupyter-widgets/controls"
          }
        },
        "67d7ff3b667a4ebd940feb87e3220703": {
          "model_module": "@jupyter-widgets/base",
          "model_name": "LayoutModel",
          "model_module_version": "1.2.0",
          "state": {
            "_view_name": "LayoutView",
            "grid_template_rows": null,
            "right": null,
            "justify_content": null,
            "_view_module": "@jupyter-widgets/base",
            "overflow": null,
            "_model_module_version": "1.2.0",
            "_view_count": null,
            "flex_flow": null,
            "width": null,
            "min_width": null,
            "border": null,
            "align_items": null,
            "bottom": null,
            "_model_module": "@jupyter-widgets/base",
            "top": null,
            "grid_column": null,
            "overflow_y": null,
            "overflow_x": null,
            "grid_auto_flow": null,
            "grid_area": null,
            "grid_template_columns": null,
            "flex": null,
            "_model_name": "LayoutModel",
            "justify_items": null,
            "grid_row": null,
            "max_height": null,
            "align_content": null,
            "visibility": null,
            "align_self": null,
            "height": null,
            "min_height": null,
            "padding": null,
            "grid_auto_rows": null,
            "grid_gap": null,
            "max_width": null,
            "order": null,
            "_view_module_version": "1.2.0",
            "grid_template_areas": null,
            "object_position": null,
            "object_fit": null,
            "grid_auto_columns": null,
            "margin": null,
            "display": null,
            "left": null
          }
        },
        "dd3ebbad081f4e59a59d48b1f00b9975": {
          "model_module": "@jupyter-widgets/controls",
          "model_name": "ProgressStyleModel",
          "model_module_version": "1.5.0",
          "state": {
            "_view_name": "StyleView",
            "_model_name": "ProgressStyleModel",
            "description_width": "",
            "_view_module": "@jupyter-widgets/base",
            "_model_module_version": "1.5.0",
            "_view_count": null,
            "_view_module_version": "1.2.0",
            "bar_color": null,
            "_model_module": "@jupyter-widgets/controls"
          }
        },
        "7fc1d91ade224954ae1312c4fdf4e2e1": {
          "model_module": "@jupyter-widgets/base",
          "model_name": "LayoutModel",
          "model_module_version": "1.2.0",
          "state": {
            "_view_name": "LayoutView",
            "grid_template_rows": null,
            "right": null,
            "justify_content": null,
            "_view_module": "@jupyter-widgets/base",
            "overflow": null,
            "_model_module_version": "1.2.0",
            "_view_count": null,
            "flex_flow": null,
            "width": null,
            "min_width": null,
            "border": null,
            "align_items": null,
            "bottom": null,
            "_model_module": "@jupyter-widgets/base",
            "top": null,
            "grid_column": null,
            "overflow_y": null,
            "overflow_x": null,
            "grid_auto_flow": null,
            "grid_area": null,
            "grid_template_columns": null,
            "flex": null,
            "_model_name": "LayoutModel",
            "justify_items": null,
            "grid_row": null,
            "max_height": null,
            "align_content": null,
            "visibility": null,
            "align_self": null,
            "height": null,
            "min_height": null,
            "padding": null,
            "grid_auto_rows": null,
            "grid_gap": null,
            "max_width": null,
            "order": null,
            "_view_module_version": "1.2.0",
            "grid_template_areas": null,
            "object_position": null,
            "object_fit": null,
            "grid_auto_columns": null,
            "margin": null,
            "display": null,
            "left": null
          }
        },
        "7722ceb042f847c88795438819b3f34e": {
          "model_module": "@jupyter-widgets/controls",
          "model_name": "VBoxModel",
          "model_module_version": "1.5.0",
          "state": {
            "_view_name": "VBoxView",
            "_dom_classes": [],
            "_model_name": "VBoxModel",
            "_view_module": "@jupyter-widgets/controls",
            "_model_module_version": "1.5.0",
            "_view_count": null,
            "_view_module_version": "1.5.0",
            "box_style": "",
            "layout": "IPY_MODEL_8a046126527e4ceab2b9ac5c58c7051b",
            "_model_module": "@jupyter-widgets/controls",
            "children": [
              "IPY_MODEL_071ef15086eb4f7b81c8683e5155f6d3",
              "IPY_MODEL_1ccad0c198044a8cac3b83a695a176ba"
            ]
          }
        },
        "8a046126527e4ceab2b9ac5c58c7051b": {
          "model_module": "@jupyter-widgets/base",
          "model_name": "LayoutModel",
          "model_module_version": "1.2.0",
          "state": {
            "_view_name": "LayoutView",
            "grid_template_rows": null,
            "right": null,
            "justify_content": null,
            "_view_module": "@jupyter-widgets/base",
            "overflow": null,
            "_model_module_version": "1.2.0",
            "_view_count": null,
            "flex_flow": null,
            "width": null,
            "min_width": null,
            "border": null,
            "align_items": null,
            "bottom": null,
            "_model_module": "@jupyter-widgets/base",
            "top": null,
            "grid_column": null,
            "overflow_y": null,
            "overflow_x": null,
            "grid_auto_flow": null,
            "grid_area": null,
            "grid_template_columns": null,
            "flex": null,
            "_model_name": "LayoutModel",
            "justify_items": null,
            "grid_row": null,
            "max_height": null,
            "align_content": null,
            "visibility": null,
            "align_self": null,
            "height": null,
            "min_height": null,
            "padding": null,
            "grid_auto_rows": null,
            "grid_gap": null,
            "max_width": null,
            "order": null,
            "_view_module_version": "1.2.0",
            "grid_template_areas": null,
            "object_position": null,
            "object_fit": null,
            "grid_auto_columns": null,
            "margin": null,
            "display": null,
            "left": null
          }
        },
        "071ef15086eb4f7b81c8683e5155f6d3": {
          "model_module": "@jupyter-widgets/controls",
          "model_name": "LabelModel",
          "model_module_version": "1.5.0",
          "state": {
            "_view_name": "LabelView",
            "style": "IPY_MODEL_ec22c2d931c34b5899c531225cbb63ea",
            "_dom_classes": [],
            "description": "",
            "_model_name": "LabelModel",
            "placeholder": "​",
            "_view_module": "@jupyter-widgets/controls",
            "_model_module_version": "1.5.0",
            "value": " 1.25MB of 1.25MB uploaded (0.00MB deduped)\r",
            "_view_count": null,
            "_view_module_version": "1.5.0",
            "description_tooltip": null,
            "_model_module": "@jupyter-widgets/controls",
            "layout": "IPY_MODEL_fc6aed00c70041a6b166493d446b3d14"
          }
        },
        "1ccad0c198044a8cac3b83a695a176ba": {
          "model_module": "@jupyter-widgets/controls",
          "model_name": "FloatProgressModel",
          "model_module_version": "1.5.0",
          "state": {
            "_view_name": "ProgressView",
            "style": "IPY_MODEL_ad0fe202db2142b09c231c738f017dd7",
            "_dom_classes": [],
            "description": "",
            "_model_name": "FloatProgressModel",
            "bar_style": "",
            "max": 1,
            "_view_module": "@jupyter-widgets/controls",
            "_model_module_version": "1.5.0",
            "value": 1,
            "_view_count": null,
            "_view_module_version": "1.5.0",
            "orientation": "horizontal",
            "min": 0,
            "description_tooltip": null,
            "_model_module": "@jupyter-widgets/controls",
            "layout": "IPY_MODEL_4bf66db1c437442dab256a253c274d6b"
          }
        },
        "ec22c2d931c34b5899c531225cbb63ea": {
          "model_module": "@jupyter-widgets/controls",
          "model_name": "DescriptionStyleModel",
          "model_module_version": "1.5.0",
          "state": {
            "_view_name": "StyleView",
            "_model_name": "DescriptionStyleModel",
            "description_width": "",
            "_view_module": "@jupyter-widgets/base",
            "_model_module_version": "1.5.0",
            "_view_count": null,
            "_view_module_version": "1.2.0",
            "_model_module": "@jupyter-widgets/controls"
          }
        },
        "fc6aed00c70041a6b166493d446b3d14": {
          "model_module": "@jupyter-widgets/base",
          "model_name": "LayoutModel",
          "model_module_version": "1.2.0",
          "state": {
            "_view_name": "LayoutView",
            "grid_template_rows": null,
            "right": null,
            "justify_content": null,
            "_view_module": "@jupyter-widgets/base",
            "overflow": null,
            "_model_module_version": "1.2.0",
            "_view_count": null,
            "flex_flow": null,
            "width": null,
            "min_width": null,
            "border": null,
            "align_items": null,
            "bottom": null,
            "_model_module": "@jupyter-widgets/base",
            "top": null,
            "grid_column": null,
            "overflow_y": null,
            "overflow_x": null,
            "grid_auto_flow": null,
            "grid_area": null,
            "grid_template_columns": null,
            "flex": null,
            "_model_name": "LayoutModel",
            "justify_items": null,
            "grid_row": null,
            "max_height": null,
            "align_content": null,
            "visibility": null,
            "align_self": null,
            "height": null,
            "min_height": null,
            "padding": null,
            "grid_auto_rows": null,
            "grid_gap": null,
            "max_width": null,
            "order": null,
            "_view_module_version": "1.2.0",
            "grid_template_areas": null,
            "object_position": null,
            "object_fit": null,
            "grid_auto_columns": null,
            "margin": null,
            "display": null,
            "left": null
          }
        },
        "ad0fe202db2142b09c231c738f017dd7": {
          "model_module": "@jupyter-widgets/controls",
          "model_name": "ProgressStyleModel",
          "model_module_version": "1.5.0",
          "state": {
            "_view_name": "StyleView",
            "_model_name": "ProgressStyleModel",
            "description_width": "",
            "_view_module": "@jupyter-widgets/base",
            "_model_module_version": "1.5.0",
            "_view_count": null,
            "_view_module_version": "1.2.0",
            "bar_color": null,
            "_model_module": "@jupyter-widgets/controls"
          }
        },
        "4bf66db1c437442dab256a253c274d6b": {
          "model_module": "@jupyter-widgets/base",
          "model_name": "LayoutModel",
          "model_module_version": "1.2.0",
          "state": {
            "_view_name": "LayoutView",
            "grid_template_rows": null,
            "right": null,
            "justify_content": null,
            "_view_module": "@jupyter-widgets/base",
            "overflow": null,
            "_model_module_version": "1.2.0",
            "_view_count": null,
            "flex_flow": null,
            "width": null,
            "min_width": null,
            "border": null,
            "align_items": null,
            "bottom": null,
            "_model_module": "@jupyter-widgets/base",
            "top": null,
            "grid_column": null,
            "overflow_y": null,
            "overflow_x": null,
            "grid_auto_flow": null,
            "grid_area": null,
            "grid_template_columns": null,
            "flex": null,
            "_model_name": "LayoutModel",
            "justify_items": null,
            "grid_row": null,
            "max_height": null,
            "align_content": null,
            "visibility": null,
            "align_self": null,
            "height": null,
            "min_height": null,
            "padding": null,
            "grid_auto_rows": null,
            "grid_gap": null,
            "max_width": null,
            "order": null,
            "_view_module_version": "1.2.0",
            "grid_template_areas": null,
            "object_position": null,
            "object_fit": null,
            "grid_auto_columns": null,
            "margin": null,
            "display": null,
            "left": null
          }
        }
      }
    }
  },
  "cells": [
    {
      "cell_type": "code",
      "metadata": {
        "id": "qgsXsVKCy_hs",
        "colab": {
          "base_uri": "https://localhost:8080/"
        },
        "outputId": "9305ab51-047d-4f5a-8e4a-3531c7022b59"
      },
      "source": [
        "!git clone https://github.com/dudeperf3ct/diamond-clarity.git\n",
        "%cd diamond-clarity"
      ],
      "execution_count": null,
      "outputs": [
        {
          "output_type": "stream",
          "name": "stdout",
          "text": [
            "Cloning into 'diamond-clarity'...\n",
            "remote: Enumerating objects: 92, done.\u001b[K\n",
            "remote: Counting objects: 100% (92/92), done.\u001b[K\n",
            "remote: Compressing objects: 100% (61/61), done.\u001b[K\n",
            "remote: Total 92 (delta 32), reused 81 (delta 21), pack-reused 0\u001b[K\n",
            "Unpacking objects: 100% (92/92), done.\n",
            "/content/diamond-clarity\n"
          ]
        }
      ]
    },
    {
      "cell_type": "code",
      "metadata": {
        "id": "RWKZfJokzAAC"
      },
      "source": [
        "!pip install gdown\n",
        "!pip install albumentations==0.4.6\n",
        "!pip install torchinfo\n",
        "!pip install wandb\n",
        "!mkdir dataset\n",
        "!gdown https://drive.google.com/uc?id=1juf4cc7_gFob3EeaxI8kDNnf7NiOckw4 -O dataset/round_all.zip\n",
        "!unzip dataset/round_all.zip -d dataset/round_all"
      ],
      "execution_count": null,
      "outputs": []
    },
    {
      "cell_type": "code",
      "metadata": {
        "colab": {
          "base_uri": "https://localhost:8080/"
        },
        "id": "WoMawLYz0DqR",
        "outputId": "5597b744-3ecb-4151-f622-536dc392056a"
      },
      "source": [
        "%cd diamond-clarity/"
      ],
      "execution_count": null,
      "outputs": [
        {
          "output_type": "stream",
          "name": "stdout",
          "text": [
            "/content/diamond-clarity\n"
          ]
        }
      ]
    },
    {
      "cell_type": "code",
      "metadata": {
        "colab": {
          "base_uri": "https://localhost:8080/",
          "height": 1000
        },
        "id": "eAmagYDczFPY",
        "outputId": "c7ba82d7-04c0-46d0-b2f9-fad806c27e99"
      },
      "source": [
        "%run main.py"
      ],
      "execution_count": null,
      "outputs": [
        {
          "output_type": "stream",
          "name": "stderr",
          "text": [
            "Creating a logging file at experiments/cnn3d/simple_cnn3d/simple_cnn3d.log\n",
            "Parent Directory experiments/cnn3d/simple_cnn3d exists!!\n",
            "Creating models directory at experiments/cnn3d/simple_cnn3d/models\n",
            "\u001b[34m\u001b[1mwandb\u001b[0m: Currently logged in as: \u001b[33mdudeperf3ct\u001b[0m (use `wandb login --relogin` to force relogin)\n"
          ]
        },
        {
          "output_type": "display_data",
          "data": {
            "text/html": [
              "\n",
              "                    Syncing run <strong><a href=\"https://wandb.ai/dudeperf3ct/cnn3d/runs/25zuhe29\" target=\"_blank\">genial-dream-25</a></strong> to <a href=\"https://wandb.ai/dudeperf3ct/cnn3d\" target=\"_blank\">Weights & Biases</a> (<a href=\"https://docs.wandb.com/integrations/jupyter.html\" target=\"_blank\">docs</a>).<br/>\n",
              "\n",
              "                "
            ],
            "text/plain": [
              "<IPython.core.display.HTML object>"
            ]
          },
          "metadata": {}
        },
        {
          "output_type": "stream",
          "name": "stderr",
          "text": [
            "--------------------------------------------------------------------------------\n",
            "\u001b[34m\u001b[1mHyperparameters: \u001b[0m\n",
            "--------------------------------------------------------------------------------\n",
            "Saved model not found at experiments/cnn3d/simple_cnn3d/models/simple_cnn3d.pth\n"
          ]
        },
        {
          "output_type": "stream",
          "name": "stdout",
          "text": [
            "{'batch_size': 5,\n",
            " 'embed_size': 128,\n",
            " 'epochs': 15,\n",
            " 'feature_extract': False,\n",
            " 'finetune_layer': -1,\n",
            " 'folds': -1,\n",
            " 'height': 384,\n",
            " 'input_channels': 3,\n",
            " 'learning_rate': 0.0001,\n",
            " 'means': [0.7743833848427648, 0.7983912274706353, 0.8350704625255623],\n",
            " 'model_name': 'simple_cnn3d',\n",
            " 'num_classes': 3,\n",
            " 'num_workers': 2,\n",
            " 'optimizer': 'AdamW',\n",
            " 'root_dir': 'dataset/round_all/all',\n",
            " 'save_model_path': 'experiments/cnn3d/simple_cnn3d/models/simple_cnn3d.pth',\n",
            " 'scheduler': 'OneCycleLR',\n",
            " 'seed': 42,\n",
            " 'stds': [0.14612580442601508, 0.14797858700495264, 0.15152898017083147],\n",
            " 'test_split_ratio': 0.05,\n",
            " 'trained_model_path': None,\n",
            " 'use_pretrain': False,\n",
            " 'use_wandb': True,\n",
            " 'width': 384}\n"
          ]
        },
        {
          "output_type": "stream",
          "name": "stderr",
          "text": [
            "Label Encoding: ['0.0' '0.5' '1.0']\n",
            "Label Mapping: {0: '0.0', 1: '0.5', 2: '1.0'}\n",
            "Class weights for labels: [0.71530758 3.96825397 0.74074074]\n",
            "Loading data\n",
            "Training shape: (475,), (475,), (array([0, 1, 2]), array([221,  40, 214]))\n",
            "Validation shape: (25,), (25,), (array([0, 1, 2]), array([12,  2, 11]))\n",
            "\u001b[34m\u001b[1mStart training pretrained models\u001b[0m\n",
            "\n",
            "---------- EPOCH: 1 | 15 ----------\n",
            "\n",
            "train_loss: 1.20: 100%|██████████| 95/95 [03:34<00:00,  2.25s/it]\n",
            "\u001b[34m\u001b[1mPhase:\u001b[0m train | \u001b[34m\u001b[1mLoss\u001b[0m 2.3338 | \u001b[34m\u001b[1mAccuracy\u001b[0m 0.3495 | \u001b[34m\u001b[1mF1\u001b[0m 0.2547 | \u001b[34m\u001b[1mPrecision\u001b[0m 0.2638 | \u001b[34m\u001b[1mRecall\u001b[0m 0.3138\n",
            "val_loss: 1.09: 100%|██████████| 5/5 [00:05<00:00,  1.10s/it]\n",
            "Val acc improved from 0.0000 to 0.2800.\n",
            "\u001b[34m\u001b[1mPhase:\u001b[0m val | \u001b[34m\u001b[1mLoss\u001b[0m 1.6010 | \u001b[34m\u001b[1mAccuracy\u001b[0m 0.2800 | \u001b[34m\u001b[1mF1\u001b[0m 0.1667 | \u001b[34m\u001b[1mPrecision\u001b[0m 0.1889 | \u001b[34m\u001b[1mRecall\u001b[0m 0.1606\n",
            "\n",
            "---------- EPOCH: 2 | 15 ----------\n",
            "\n",
            "train_loss: 1.67: 100%|██████████| 95/95 [03:33<00:00,  2.25s/it]\n",
            "\u001b[34m\u001b[1mPhase:\u001b[0m train | \u001b[34m\u001b[1mLoss\u001b[0m 1.4302 | \u001b[34m\u001b[1mAccuracy\u001b[0m 0.3853 | \u001b[34m\u001b[1mF1\u001b[0m 0.2958 | \u001b[34m\u001b[1mPrecision\u001b[0m 0.3175 | \u001b[34m\u001b[1mRecall\u001b[0m 0.3411\n",
            "val_loss: 0.81: 100%|██████████| 5/5 [00:05<00:00,  1.10s/it]\n",
            "Val acc improved from 0.2800 to 0.3600.\n",
            "\u001b[34m\u001b[1mPhase:\u001b[0m val | \u001b[34m\u001b[1mLoss\u001b[0m 1.3918 | \u001b[34m\u001b[1mAccuracy\u001b[0m 0.3600 | \u001b[34m\u001b[1mF1\u001b[0m 0.2827 | \u001b[34m\u001b[1mPrecision\u001b[0m 0.3361 | \u001b[34m\u001b[1mRecall\u001b[0m 0.3300\n",
            "\n",
            "---------- EPOCH: 3 | 15 ----------\n",
            "\n",
            "train_loss: 1.57: 100%|██████████| 95/95 [03:33<00:00,  2.25s/it]\n",
            "\u001b[34m\u001b[1mPhase:\u001b[0m train | \u001b[34m\u001b[1mLoss\u001b[0m 1.4280 | \u001b[34m\u001b[1mAccuracy\u001b[0m 0.3579 | \u001b[34m\u001b[1mF1\u001b[0m 0.2416 | \u001b[34m\u001b[1mPrecision\u001b[0m 0.2351 | \u001b[34m\u001b[1mRecall\u001b[0m 0.3329\n",
            "val_loss: 1.15: 100%|██████████| 5/5 [00:05<00:00,  1.10s/it]\n",
            "Val acc improved from 0.3600 to 0.4400.\n",
            "\u001b[34m\u001b[1mPhase:\u001b[0m val | \u001b[34m\u001b[1mLoss\u001b[0m 1.2901 | \u001b[34m\u001b[1mAccuracy\u001b[0m 0.4400 | \u001b[34m\u001b[1mF1\u001b[0m 0.2722 | \u001b[34m\u001b[1mPrecision\u001b[0m 0.2467 | \u001b[34m\u001b[1mRecall\u001b[0m 0.3167\n",
            "\n",
            "---------- EPOCH: 4 | 15 ----------\n",
            "\n",
            "train_loss: 1.55: 100%|██████████| 95/95 [03:34<00:00,  2.25s/it]\n",
            "\u001b[34m\u001b[1mPhase:\u001b[0m train | \u001b[34m\u001b[1mLoss\u001b[0m 1.2893 | \u001b[34m\u001b[1mAccuracy\u001b[0m 0.3747 | \u001b[34m\u001b[1mF1\u001b[0m 0.2798 | \u001b[34m\u001b[1mPrecision\u001b[0m 0.3078 | \u001b[34m\u001b[1mRecall\u001b[0m 0.3265\n",
            "val_loss: 1.10: 100%|██████████| 5/5 [00:05<00:00,  1.10s/it]\n",
            "\u001b[34m\u001b[1mPhase:\u001b[0m val | \u001b[34m\u001b[1mLoss\u001b[0m 1.2779 | \u001b[34m\u001b[1mAccuracy\u001b[0m 0.0800 | \u001b[34m\u001b[1mF1\u001b[0m 0.0556 | \u001b[34m\u001b[1mPrecision\u001b[0m 0.0333 | \u001b[34m\u001b[1mRecall\u001b[0m 0.1667\n",
            "\n",
            "---------- EPOCH: 5 | 15 ----------\n",
            "\n",
            "train_loss: 1.38: 100%|██████████| 95/95 [03:33<00:00,  2.25s/it]\n",
            "\u001b[34m\u001b[1mPhase:\u001b[0m train | \u001b[34m\u001b[1mLoss\u001b[0m 1.2102 | \u001b[34m\u001b[1mAccuracy\u001b[0m 0.3705 | \u001b[34m\u001b[1mF1\u001b[0m 0.2800 | \u001b[34m\u001b[1mPrecision\u001b[0m 0.2911 | \u001b[34m\u001b[1mRecall\u001b[0m 0.3404\n",
            "val_loss: 1.05: 100%|██████████| 5/5 [00:05<00:00,  1.15s/it]\n",
            "\u001b[34m\u001b[1mPhase:\u001b[0m val | \u001b[34m\u001b[1mLoss\u001b[0m 1.3201 | \u001b[34m\u001b[1mAccuracy\u001b[0m 0.0800 | \u001b[34m\u001b[1mF1\u001b[0m 0.0489 | \u001b[34m\u001b[1mPrecision\u001b[0m 0.0300 | \u001b[34m\u001b[1mRecall\u001b[0m 0.1333\n",
            "\n",
            "---------- EPOCH: 6 | 15 ----------\n",
            "\n",
            "train_loss: 1.12: 100%|██████████| 95/95 [03:34<00:00,  2.26s/it]\n",
            "\u001b[34m\u001b[1mPhase:\u001b[0m train | \u001b[34m\u001b[1mLoss\u001b[0m 1.2620 | \u001b[34m\u001b[1mAccuracy\u001b[0m 0.4211 | \u001b[34m\u001b[1mF1\u001b[0m 0.3455 | \u001b[34m\u001b[1mPrecision\u001b[0m 0.3713 | \u001b[34m\u001b[1mRecall\u001b[0m 0.4023\n",
            "val_loss: 1.11: 100%|██████████| 5/5 [00:05<00:00,  1.14s/it]\n",
            "\u001b[34m\u001b[1mPhase:\u001b[0m val | \u001b[34m\u001b[1mLoss\u001b[0m 1.2330 | \u001b[34m\u001b[1mAccuracy\u001b[0m 0.3200 | \u001b[34m\u001b[1mF1\u001b[0m 0.1905 | \u001b[34m\u001b[1mPrecision\u001b[0m 0.2000 | \u001b[34m\u001b[1mRecall\u001b[0m 0.1967\n",
            "\n",
            "---------- EPOCH: 7 | 15 ----------\n",
            "\n",
            "train_loss: 1.14: 100%|██████████| 95/95 [03:33<00:00,  2.25s/it]\n",
            "\u001b[34m\u001b[1mPhase:\u001b[0m train | \u001b[34m\u001b[1mLoss\u001b[0m 1.2006 | \u001b[34m\u001b[1mAccuracy\u001b[0m 0.4884 | \u001b[34m\u001b[1mF1\u001b[0m 0.3476 | \u001b[34m\u001b[1mPrecision\u001b[0m 0.3757 | \u001b[34m\u001b[1mRecall\u001b[0m 0.4064\n",
            "val_loss: 1.19: 100%|██████████| 5/5 [00:05<00:00,  1.10s/it]\n",
            "\u001b[34m\u001b[1mPhase:\u001b[0m val | \u001b[34m\u001b[1mLoss\u001b[0m 1.3137 | \u001b[34m\u001b[1mAccuracy\u001b[0m 0.3600 | \u001b[34m\u001b[1mF1\u001b[0m 0.2159 | \u001b[34m\u001b[1mPrecision\u001b[0m 0.1922 | \u001b[34m\u001b[1mRecall\u001b[0m 0.3244\n",
            "\n",
            "---------- EPOCH: 8 | 15 ----------\n",
            "\n",
            "train_loss: 1.17: 100%|██████████| 95/95 [03:33<00:00,  2.25s/it]\n",
            "\u001b[34m\u001b[1mPhase:\u001b[0m train | \u001b[34m\u001b[1mLoss\u001b[0m 1.2034 | \u001b[34m\u001b[1mAccuracy\u001b[0m 0.4589 | \u001b[34m\u001b[1mF1\u001b[0m 0.3604 | \u001b[34m\u001b[1mPrecision\u001b[0m 0.3850 | \u001b[34m\u001b[1mRecall\u001b[0m 0.4205\n",
            "val_loss: 1.14: 100%|██████████| 5/5 [00:05<00:00,  1.10s/it]\n",
            "\u001b[34m\u001b[1mPhase:\u001b[0m val | \u001b[34m\u001b[1mLoss\u001b[0m 1.2128 | \u001b[34m\u001b[1mAccuracy\u001b[0m 0.4000 | \u001b[34m\u001b[1mF1\u001b[0m 0.2461 | \u001b[34m\u001b[1mPrecision\u001b[0m 0.2656 | \u001b[34m\u001b[1mRecall\u001b[0m 0.2967\n",
            "\n",
            "---------- EPOCH: 9 | 15 ----------\n",
            "\n",
            "train_loss: 1.14: 100%|██████████| 95/95 [03:33<00:00,  2.25s/it]\n",
            "\u001b[34m\u001b[1mPhase:\u001b[0m train | \u001b[34m\u001b[1mLoss\u001b[0m 1.1806 | \u001b[34m\u001b[1mAccuracy\u001b[0m 0.4926 | \u001b[34m\u001b[1mF1\u001b[0m 0.3976 | \u001b[34m\u001b[1mPrecision\u001b[0m 0.4420 | \u001b[34m\u001b[1mRecall\u001b[0m 0.4214\n",
            "val_loss: 1.09: 100%|██████████| 5/5 [00:05<00:00,  1.11s/it]\n",
            "Val acc improved from 0.4400 to 0.4800.\n",
            "\u001b[34m\u001b[1mPhase:\u001b[0m val | \u001b[34m\u001b[1mLoss\u001b[0m 1.2457 | \u001b[34m\u001b[1mAccuracy\u001b[0m 0.4800 | \u001b[34m\u001b[1mF1\u001b[0m 0.3472 | \u001b[34m\u001b[1mPrecision\u001b[0m 0.3433 | \u001b[34m\u001b[1mRecall\u001b[0m 0.4300\n",
            "\n",
            "---------- EPOCH: 10 | 15 ----------\n",
            "\n",
            "train_loss: 1.20: 100%|██████████| 95/95 [03:34<00:00,  2.25s/it]\n",
            "\u001b[34m\u001b[1mPhase:\u001b[0m train | \u001b[34m\u001b[1mLoss\u001b[0m 1.1731 | \u001b[34m\u001b[1mAccuracy\u001b[0m 0.4863 | \u001b[34m\u001b[1mF1\u001b[0m 0.4032 | \u001b[34m\u001b[1mPrecision\u001b[0m 0.4330 | \u001b[34m\u001b[1mRecall\u001b[0m 0.4573\n",
            "val_loss: 1.15: 100%|██████████| 5/5 [00:05<00:00,  1.11s/it]\n",
            "Val acc improved from 0.4800 to 0.5200.\n",
            "\u001b[34m\u001b[1mPhase:\u001b[0m val | \u001b[34m\u001b[1mLoss\u001b[0m 1.2302 | \u001b[34m\u001b[1mAccuracy\u001b[0m 0.5200 | \u001b[34m\u001b[1mF1\u001b[0m 0.4603 | \u001b[34m\u001b[1mPrecision\u001b[0m 0.5000 | \u001b[34m\u001b[1mRecall\u001b[0m 0.4433\n",
            "\n",
            "---------- EPOCH: 11 | 15 ----------\n",
            "\n",
            "train_loss: 1.16: 100%|██████████| 95/95 [03:33<00:00,  2.25s/it]\n",
            "\u001b[34m\u001b[1mPhase:\u001b[0m train | \u001b[34m\u001b[1mLoss\u001b[0m 1.1668 | \u001b[34m\u001b[1mAccuracy\u001b[0m 0.4737 | \u001b[34m\u001b[1mF1\u001b[0m 0.3764 | \u001b[34m\u001b[1mPrecision\u001b[0m 0.4147 | \u001b[34m\u001b[1mRecall\u001b[0m 0.4107\n",
            "val_loss: 1.10: 100%|██████████| 5/5 [00:05<00:00,  1.12s/it]\n",
            "\u001b[34m\u001b[1mPhase:\u001b[0m val | \u001b[34m\u001b[1mLoss\u001b[0m 1.3456 | \u001b[34m\u001b[1mAccuracy\u001b[0m 0.4800 | \u001b[34m\u001b[1mF1\u001b[0m 0.2858 | \u001b[34m\u001b[1mPrecision\u001b[0m 0.2917 | \u001b[34m\u001b[1mRecall\u001b[0m 0.2883\n",
            "\n",
            "---------- EPOCH: 12 | 15 ----------\n",
            "\n",
            "train_loss: 1.13: 100%|██████████| 95/95 [03:33<00:00,  2.25s/it]\n",
            "\u001b[34m\u001b[1mPhase:\u001b[0m train | \u001b[34m\u001b[1mLoss\u001b[0m 1.1756 | \u001b[34m\u001b[1mAccuracy\u001b[0m 0.5116 | \u001b[34m\u001b[1mF1\u001b[0m 0.4286 | \u001b[34m\u001b[1mPrecision\u001b[0m 0.4792 | \u001b[34m\u001b[1mRecall\u001b[0m 0.4647\n",
            "val_loss: 1.21: 100%|██████████| 5/5 [00:05<00:00,  1.10s/it]\n",
            "\u001b[34m\u001b[1mPhase:\u001b[0m val | \u001b[34m\u001b[1mLoss\u001b[0m 1.2417 | \u001b[34m\u001b[1mAccuracy\u001b[0m 0.4400 | \u001b[34m\u001b[1mF1\u001b[0m 0.3344 | \u001b[34m\u001b[1mPrecision\u001b[0m 0.3972 | \u001b[34m\u001b[1mRecall\u001b[0m 0.3717\n",
            "\n",
            "---------- EPOCH: 13 | 15 ----------\n",
            "\n",
            "train_loss: 0.93: 100%|██████████| 95/95 [03:33<00:00,  2.25s/it]\n",
            "\u001b[34m\u001b[1mPhase:\u001b[0m train | \u001b[34m\u001b[1mLoss\u001b[0m 1.1563 | \u001b[34m\u001b[1mAccuracy\u001b[0m 0.5411 | \u001b[34m\u001b[1mF1\u001b[0m 0.4280 | \u001b[34m\u001b[1mPrecision\u001b[0m 0.4544 | \u001b[34m\u001b[1mRecall\u001b[0m 0.4839\n",
            "val_loss: 1.03: 100%|██████████| 5/5 [00:05<00:00,  1.12s/it]\n",
            "\u001b[34m\u001b[1mPhase:\u001b[0m val | \u001b[34m\u001b[1mLoss\u001b[0m 1.2981 | \u001b[34m\u001b[1mAccuracy\u001b[0m 0.3600 | \u001b[34m\u001b[1mF1\u001b[0m 0.2733 | \u001b[34m\u001b[1mPrecision\u001b[0m 0.3556 | \u001b[34m\u001b[1mRecall\u001b[0m 0.3133\n",
            "\n",
            "---------- EPOCH: 14 | 15 ----------\n",
            "\n",
            "train_loss: 1.39: 100%|██████████| 95/95 [03:33<00:00,  2.25s/it]\n",
            "\u001b[34m\u001b[1mPhase:\u001b[0m train | \u001b[34m\u001b[1mLoss\u001b[0m 1.1424 | \u001b[34m\u001b[1mAccuracy\u001b[0m 0.5558 | \u001b[34m\u001b[1mF1\u001b[0m 0.4721 | \u001b[34m\u001b[1mPrecision\u001b[0m 0.5063 | \u001b[34m\u001b[1mRecall\u001b[0m 0.5010\n",
            "val_loss: 1.03: 100%|██████████| 5/5 [00:05<00:00,  1.11s/it]\n",
            "\u001b[34m\u001b[1mPhase:\u001b[0m val | \u001b[34m\u001b[1mLoss\u001b[0m 1.3841 | \u001b[34m\u001b[1mAccuracy\u001b[0m 0.2400 | \u001b[34m\u001b[1mF1\u001b[0m 0.1600 | \u001b[34m\u001b[1mPrecision\u001b[0m 0.2722 | \u001b[34m\u001b[1mRecall\u001b[0m 0.1689\n",
            "\n",
            "---------- EPOCH: 15 | 15 ----------\n",
            "\n",
            "train_loss: 0.95: 100%|██████████| 95/95 [03:33<00:00,  2.25s/it]\n",
            "\u001b[34m\u001b[1mPhase:\u001b[0m train | \u001b[34m\u001b[1mLoss\u001b[0m 1.1243 | \u001b[34m\u001b[1mAccuracy\u001b[0m 0.5621 | \u001b[34m\u001b[1mF1\u001b[0m 0.4303 | \u001b[34m\u001b[1mPrecision\u001b[0m 0.4618 | \u001b[34m\u001b[1mRecall\u001b[0m 0.4628\n",
            "val_loss: 1.10: 100%|██████████| 5/5 [00:05<00:00,  1.12s/it]\n",
            "\u001b[34m\u001b[1mPhase:\u001b[0m val | \u001b[34m\u001b[1mLoss\u001b[0m 1.5153 | \u001b[34m\u001b[1mAccuracy\u001b[0m 0.3600 | \u001b[34m\u001b[1mF1\u001b[0m 0.1961 | \u001b[34m\u001b[1mPrecision\u001b[0m 0.1933 | \u001b[34m\u001b[1mRecall\u001b[0m 0.2567\n",
            "Training complete in 54m 53s\n",
            "\u001b[34m\u001b[1mBest val Acc: 0.520000\u001b[0m\n",
            "Saving best pretrained model at experiments/cnn3d/simple_cnn3d/models/simple_cnn3d.pth\n",
            "test_loss: 1.15: 100%|██████████| 5/5 [00:06<00:00,  1.20s/it]\n"
          ]
        },
        {
          "output_type": "stream",
          "name": "stdout",
          "text": [
            "\u001b[34m\u001b[1mTest Loss:\u001b[0m 1.2302\n",
            "\n",
            "Test Accuracy of     0: 58.33% ( 7/12)\n",
            "Test Accuracy of     1: 0.00% ( 0/ 2)\n",
            "Test Accuracy of     2: 54.55% ( 6/11)\n",
            "\n",
            " \u001b[34m\u001b[1mTest Accuracy (Overall):\u001b[0m  52.00% (13/25)\n",
            "\n",
            " \u001b[34m\u001b[1mConfusion Matrix\u001b[0m \n",
            " [[7. 3. 2.]\n",
            " [2. 0. 0.]\n",
            " [3. 2. 6.]]\n"
          ]
        },
        {
          "output_type": "display_data",
          "data": {
            "image/png": "[encoded data removed]",
            "text/plain": [
              "<Figure size 576x432 with 2 Axes>"
            ]
          },
          "metadata": {
            "needs_background": "light"
          }
        },
        {
          "output_type": "stream",
          "name": "stdout",
          "text": [
            "\n",
            " \u001b[34m\u001b[1mClassification Report\u001b[0m \n",
            "               precision    recall  f1-score   support\n",
            "\n",
            "           0       0.58      0.58      0.58        12\n",
            "           1       0.00      0.00      0.00         2\n",
            "           2       0.75      0.55      0.63        11\n",
            "\n",
            "    accuracy                           0.52        25\n",
            "   macro avg       0.44      0.38      0.40        25\n",
            "weighted avg       0.61      0.52      0.56        25\n",
            "\n"
          ]
        },
        {
          "output_type": "error",
          "ename": "StopIteration",
          "evalue": "ignored",
          "traceback": [
            "\u001b[0;31m---------------------------------------------------------------------------\u001b[0m",
            "\u001b[0;31mStopIteration\u001b[0m                             Traceback (most recent call last)",
            "\u001b[0;32m/content/diamond-clarity/main.py\u001b[0m in \u001b[0;36m<module>\u001b[0;34m()\u001b[0m\n\u001b[1;32m     14\u001b[0m     \u001b[0;31m# perform simple training\u001b[0m\u001b[0;34m\u001b[0m\u001b[0;34m\u001b[0m\u001b[0;34m\u001b[0m\u001b[0m\n\u001b[1;32m     15\u001b[0m     \u001b[0;32melse\u001b[0m\u001b[0;34m:\u001b[0m\u001b[0;34m\u001b[0m\u001b[0;34m\u001b[0m\u001b[0m\n\u001b[0;32m---> 16\u001b[0;31m         \u001b[0mmodel\u001b[0m\u001b[0;34m.\u001b[0m\u001b[0mtrain\u001b[0m\u001b[0;34m(\u001b[0m\u001b[0mtrain_df\u001b[0m\u001b[0;34m)\u001b[0m\u001b[0;34m\u001b[0m\u001b[0;34m\u001b[0m\u001b[0m\n\u001b[0m",
            "\u001b[0;32m/content/diamond-clarity/train.py\u001b[0m in \u001b[0;36mtrain\u001b[0;34m(self, train_df)\u001b[0m\n\u001b[1;32m    378\u001b[0m         \u001b[0;31m# if self.feature_extract:\u001b[0m\u001b[0;34m\u001b[0m\u001b[0;34m\u001b[0m\u001b[0;34m\u001b[0m\u001b[0m\n\u001b[1;32m    379\u001b[0m         \u001b[0mlogging\u001b[0m\u001b[0;34m.\u001b[0m\u001b[0minfo\u001b[0m\u001b[0;34m(\u001b[0m\u001b[0mcolorstr\u001b[0m\u001b[0;34m(\u001b[0m\u001b[0;34m\"Start training pretrained models\"\u001b[0m\u001b[0;34m)\u001b[0m\u001b[0;34m)\u001b[0m\u001b[0;34m\u001b[0m\u001b[0;34m\u001b[0m\u001b[0m\n\u001b[0;32m--> 380\u001b[0;31m         \u001b[0m_\u001b[0m \u001b[0;34m=\u001b[0m \u001b[0mself\u001b[0m\u001b[0;34m.\u001b[0m\u001b[0mtrain_pretrain\u001b[0m\u001b[0;34m(\u001b[0m\u001b[0mcws\u001b[0m\u001b[0;34m,\u001b[0m \u001b[0mtrain_loader_length\u001b[0m\u001b[0;34m,\u001b[0m \u001b[0mdataloaders_dict\u001b[0m\u001b[0;34m)\u001b[0m\u001b[0;34m\u001b[0m\u001b[0;34m\u001b[0m\u001b[0m\n\u001b[0m\u001b[1;32m    381\u001b[0m         \u001b[0;31m# finetune a pretrained model\u001b[0m\u001b[0;34m\u001b[0m\u001b[0;34m\u001b[0m\u001b[0;34m\u001b[0m\u001b[0m\n\u001b[1;32m    382\u001b[0m         \u001b[0;32mif\u001b[0m \u001b[0mself\u001b[0m\u001b[0;34m.\u001b[0m\u001b[0mfinetune_layer\u001b[0m \u001b[0;34m!=\u001b[0m \u001b[0;34m-\u001b[0m\u001b[0;36m1\u001b[0m\u001b[0;34m:\u001b[0m\u001b[0;34m\u001b[0m\u001b[0;34m\u001b[0m\u001b[0m\n",
            "\u001b[0;32m/content/diamond-clarity/train.py\u001b[0m in \u001b[0;36mevaluate\u001b[0;34m(self, val_loader, cws, vis_prediction, is_test)\u001b[0m\n\u001b[1;32m    402\u001b[0m             \u001b[0mcriterion\u001b[0m \u001b[0;34m=\u001b[0m \u001b[0mnn\u001b[0m\u001b[0;34m.\u001b[0m\u001b[0mCrossEntropyLoss\u001b[0m\u001b[0;34m(\u001b[0m\u001b[0mweight\u001b[0m\u001b[0;34m=\u001b[0m\u001b[0mtorch\u001b[0m\u001b[0;34m.\u001b[0m\u001b[0mfrom_numpy\u001b[0m\u001b[0;34m(\u001b[0m\u001b[0mcws\u001b[0m\u001b[0;34m)\u001b[0m\u001b[0;34m.\u001b[0m\u001b[0mfloat\u001b[0m\u001b[0;34m(\u001b[0m\u001b[0;34m)\u001b[0m\u001b[0;34m,\u001b[0m \u001b[0mlabel_smoothing\u001b[0m\u001b[0;34m=\u001b[0m\u001b[0;36m0.1\u001b[0m\u001b[0;34m)\u001b[0m\u001b[0;34m.\u001b[0m\u001b[0mto\u001b[0m\u001b[0;34m(\u001b[0m\u001b[0mdevice\u001b[0m\u001b[0;34m)\u001b[0m\u001b[0;34m\u001b[0m\u001b[0;34m\u001b[0m\u001b[0m\n\u001b[1;32m    403\u001b[0m         test_model(self.save_model_path, val_loader, criterion, self.num_classes, self.classes, device, self.use_wandb,\n\u001b[0;32m--> 404\u001b[0;31m                    vis_prediction, self.means, self.stds, is_test)\n\u001b[0m\u001b[1;32m    405\u001b[0m \u001b[0;34m\u001b[0m\u001b[0m\n\u001b[1;32m    406\u001b[0m     \u001b[0;32mdef\u001b[0m \u001b[0mtrain_k_folds\u001b[0m\u001b[0;34m(\u001b[0m\u001b[0mself\u001b[0m\u001b[0;34m,\u001b[0m \u001b[0mtrain_df\u001b[0m\u001b[0;34m:\u001b[0m \u001b[0mpd\u001b[0m\u001b[0;34m.\u001b[0m\u001b[0mDataFrame\u001b[0m\u001b[0;34m)\u001b[0m\u001b[0;34m:\u001b[0m\u001b[0;34m\u001b[0m\u001b[0;34m\u001b[0m\u001b[0m\n",
            "\u001b[0;32m/content/diamond-clarity/evaluate.py\u001b[0m in \u001b[0;36mtest_model\u001b[0;34m(model_path, test_loader, criterion, num_classes, classes, device, use_wandb, vis_prediction, means, stds, is_test)\u001b[0m\n\u001b[1;32m    162\u001b[0m \u001b[0;34m\u001b[0m\u001b[0m\n\u001b[1;32m    163\u001b[0m     \u001b[0;32mif\u001b[0m \u001b[0mvis_prediction\u001b[0m\u001b[0;34m:\u001b[0m\u001b[0;34m\u001b[0m\u001b[0;34m\u001b[0m\u001b[0m\n\u001b[0;32m--> 164\u001b[0;31m         \u001b[0mfig\u001b[0m \u001b[0;34m=\u001b[0m \u001b[0mplot_predictions\u001b[0m\u001b[0;34m(\u001b[0m\u001b[0mmodel\u001b[0m\u001b[0;34m,\u001b[0m \u001b[0mtest_loader\u001b[0m\u001b[0;34m,\u001b[0m \u001b[0mdevice\u001b[0m\u001b[0;34m,\u001b[0m \u001b[0mclasses\u001b[0m\u001b[0;34m,\u001b[0m \u001b[0mmeans\u001b[0m\u001b[0;34m,\u001b[0m \u001b[0mstds\u001b[0m\u001b[0;34m)\u001b[0m\u001b[0;34m\u001b[0m\u001b[0;34m\u001b[0m\u001b[0m\n\u001b[0m\u001b[1;32m    165\u001b[0m         \u001b[0mplt\u001b[0m\u001b[0;34m.\u001b[0m\u001b[0mshow\u001b[0m\u001b[0;34m(\u001b[0m\u001b[0;34m)\u001b[0m\u001b[0;34m\u001b[0m\u001b[0;34m\u001b[0m\u001b[0m\n",
            "\u001b[0;32m/content/diamond-clarity/utils.py\u001b[0m in \u001b[0;36mplot_predictions\u001b[0;34m(model, test_loader, device, classes, means, stds)\u001b[0m\n\u001b[1;32m    162\u001b[0m     \u001b[0mimages\u001b[0m\u001b[0;34m,\u001b[0m \u001b[0mlabels\u001b[0m\u001b[0;34m,\u001b[0m \u001b[0mpreds\u001b[0m\u001b[0;34m,\u001b[0m \u001b[0mprobab\u001b[0m \u001b[0;34m=\u001b[0m \u001b[0;34m[\u001b[0m\u001b[0;34m]\u001b[0m\u001b[0;34m,\u001b[0m \u001b[0;34m[\u001b[0m\u001b[0;34m]\u001b[0m\u001b[0;34m,\u001b[0m \u001b[0;34m[\u001b[0m\u001b[0;34m]\u001b[0m\u001b[0;34m,\u001b[0m \u001b[0;34m[\u001b[0m\u001b[0;34m]\u001b[0m\u001b[0;34m\u001b[0m\u001b[0;34m\u001b[0m\u001b[0m\n\u001b[1;32m    163\u001b[0m     \u001b[0;32mfor\u001b[0m \u001b[0m_\u001b[0m \u001b[0;32min\u001b[0m \u001b[0mrange\u001b[0m\u001b[0;34m(\u001b[0m\u001b[0;36m20\u001b[0m\u001b[0;34m)\u001b[0m\u001b[0;34m:\u001b[0m\u001b[0;34m\u001b[0m\u001b[0;34m\u001b[0m\u001b[0m\n\u001b[0;32m--> 164\u001b[0;31m         \u001b[0mimg\u001b[0m\u001b[0;34m,\u001b[0m \u001b[0mlbl\u001b[0m \u001b[0;34m=\u001b[0m \u001b[0mdataiter\u001b[0m\u001b[0;34m.\u001b[0m\u001b[0mnext\u001b[0m\u001b[0;34m(\u001b[0m\u001b[0;34m)\u001b[0m\u001b[0;34m\u001b[0m\u001b[0;34m\u001b[0m\u001b[0m\n\u001b[0m\u001b[1;32m    165\u001b[0m         \u001b[0mimg\u001b[0m\u001b[0;34m,\u001b[0m \u001b[0mlbl\u001b[0m \u001b[0;34m=\u001b[0m \u001b[0mimg\u001b[0m\u001b[0;34m.\u001b[0m\u001b[0mto\u001b[0m\u001b[0;34m(\u001b[0m\u001b[0mdevice\u001b[0m\u001b[0;34m)\u001b[0m\u001b[0;34m,\u001b[0m \u001b[0mlbl\u001b[0m\u001b[0;34m.\u001b[0m\u001b[0mtolist\u001b[0m\u001b[0;34m(\u001b[0m\u001b[0;34m)\u001b[0m\u001b[0;34m\u001b[0m\u001b[0;34m\u001b[0m\u001b[0m\n\u001b[1;32m    166\u001b[0m         \u001b[0;32mwith\u001b[0m \u001b[0mtorch\u001b[0m\u001b[0;34m.\u001b[0m\u001b[0mno_grad\u001b[0m\u001b[0;34m(\u001b[0m\u001b[0;34m)\u001b[0m\u001b[0;34m:\u001b[0m\u001b[0;34m\u001b[0m\u001b[0;34m\u001b[0m\u001b[0m\n",
            "\u001b[0;32m/usr/local/lib/python3.7/dist-packages/torch/utils/data/dataloader.py\u001b[0m in \u001b[0;36m__next__\u001b[0;34m(self)\u001b[0m\n\u001b[1;32m    519\u001b[0m             \u001b[0;32mif\u001b[0m \u001b[0mself\u001b[0m\u001b[0;34m.\u001b[0m\u001b[0m_sampler_iter\u001b[0m \u001b[0;32mis\u001b[0m \u001b[0;32mNone\u001b[0m\u001b[0;34m:\u001b[0m\u001b[0;34m\u001b[0m\u001b[0;34m\u001b[0m\u001b[0m\n\u001b[1;32m    520\u001b[0m                 \u001b[0mself\u001b[0m\u001b[0;34m.\u001b[0m\u001b[0m_reset\u001b[0m\u001b[0;34m(\u001b[0m\u001b[0;34m)\u001b[0m\u001b[0;34m\u001b[0m\u001b[0;34m\u001b[0m\u001b[0m\n\u001b[0;32m--> 521\u001b[0;31m             \u001b[0mdata\u001b[0m \u001b[0;34m=\u001b[0m \u001b[0mself\u001b[0m\u001b[0;34m.\u001b[0m\u001b[0m_next_data\u001b[0m\u001b[0;34m(\u001b[0m\u001b[0;34m)\u001b[0m\u001b[0;34m\u001b[0m\u001b[0;34m\u001b[0m\u001b[0m\n\u001b[0m\u001b[1;32m    522\u001b[0m             \u001b[0mself\u001b[0m\u001b[0;34m.\u001b[0m\u001b[0m_num_yielded\u001b[0m \u001b[0;34m+=\u001b[0m \u001b[0;36m1\u001b[0m\u001b[0;34m\u001b[0m\u001b[0;34m\u001b[0m\u001b[0m\n\u001b[1;32m    523\u001b[0m             \u001b[0;32mif\u001b[0m \u001b[0mself\u001b[0m\u001b[0;34m.\u001b[0m\u001b[0m_dataset_kind\u001b[0m \u001b[0;34m==\u001b[0m \u001b[0m_DatasetKind\u001b[0m\u001b[0;34m.\u001b[0m\u001b[0mIterable\u001b[0m \u001b[0;32mand\u001b[0m\u001b[0;31m \u001b[0m\u001b[0;31m\\\u001b[0m\u001b[0;34m\u001b[0m\u001b[0;34m\u001b[0m\u001b[0m\n",
            "\u001b[0;32m/usr/local/lib/python3.7/dist-packages/torch/utils/data/dataloader.py\u001b[0m in \u001b[0;36m_next_data\u001b[0;34m(self)\u001b[0m\n\u001b[1;32m   1174\u001b[0m                 \u001b[0;32mif\u001b[0m \u001b[0;32mnot\u001b[0m \u001b[0mself\u001b[0m\u001b[0;34m.\u001b[0m\u001b[0m_persistent_workers\u001b[0m\u001b[0;34m:\u001b[0m\u001b[0;34m\u001b[0m\u001b[0;34m\u001b[0m\u001b[0m\n\u001b[1;32m   1175\u001b[0m                     \u001b[0mself\u001b[0m\u001b[0;34m.\u001b[0m\u001b[0m_shutdown_workers\u001b[0m\u001b[0;34m(\u001b[0m\u001b[0;34m)\u001b[0m\u001b[0;34m\u001b[0m\u001b[0;34m\u001b[0m\u001b[0m\n\u001b[0;32m-> 1176\u001b[0;31m                 \u001b[0;32mraise\u001b[0m \u001b[0mStopIteration\u001b[0m\u001b[0;34m\u001b[0m\u001b[0;34m\u001b[0m\u001b[0m\n\u001b[0m\u001b[1;32m   1177\u001b[0m \u001b[0;34m\u001b[0m\u001b[0m\n\u001b[1;32m   1178\u001b[0m             \u001b[0;31m# Now `self._rcvd_idx` is the batch index we want to fetch\u001b[0m\u001b[0;34m\u001b[0m\u001b[0;34m\u001b[0m\u001b[0;34m\u001b[0m\u001b[0m\n",
            "\u001b[0;31mStopIteration\u001b[0m: "
          ]
        }
      ]
    },
    {
      "cell_type": "code",
      "metadata": {
        "id": "bka-WWMIzkKz",
        "colab": {
          "base_uri": "https://localhost:8080/",
          "height": 1000,
          "referenced_widgets": [
            "4ecb0a3565c04fc0bf97832f794b57a4",
            "7625387cf27c480893dbb1638da3149a",
            "770986b6484a429188617bd627780d99",
            "bd648947434c44e2a1c0dd2509013826",
            "234b99015c494d06bd826dc67a7996ef",
            "67d7ff3b667a4ebd940feb87e3220703",
            "dd3ebbad081f4e59a59d48b1f00b9975",
            "7fc1d91ade224954ae1312c4fdf4e2e1"
          ]
        },
        "outputId": "f8df3534-15f0-40e8-95fb-b2a9163c85e6"
      },
      "source": [
        "%run main.py"
      ],
      "execution_count": null,
      "outputs": [
        {
          "output_type": "stream",
          "name": "stderr",
          "text": [
            "Creating a logging file at experiments/cnn3d/resnet10/resnet10.log\n",
            "Parent Directory experiments/cnn3d/resnet10 exists!!\n",
            "Creating models directory at experiments/cnn3d/resnet10/models\n"
          ]
        },
        {
          "output_type": "display_data",
          "data": {
            "text/html": [
              "Finishing last run (ID:25zuhe29) before initializing another..."
            ],
            "text/plain": [
              "<IPython.core.display.HTML object>"
            ]
          },
          "metadata": {}
        },
        {
          "output_type": "display_data",
          "data": {
            "text/html": [
              "<br/>Waiting for W&B process to finish, PID 543... <strong style=\"color:green\">(success).</strong>"
            ],
            "text/plain": [
              "<IPython.core.display.HTML object>"
            ]
          },
          "metadata": {}
        },
        {
          "output_type": "display_data",
          "data": {
            "application/vnd.jupyter.widget-view+json": {
              "model_id": "4ecb0a3565c04fc0bf97832f794b57a4",
              "version_minor": 0,
              "version_major": 2
            },
            "text/plain": [
              "VBox(children=(Label(value=' 1.22MB of 1.22MB uploaded (0.00MB deduped)\\r'), FloatProgress(value=1.0, max=1.0)…"
            ]
          },
          "metadata": {}
        },
        {
          "output_type": "display_data",
          "data": {
            "text/html": [
              "<style>\n",
              "    table.wandb td:nth-child(1) { padding: 0 10px; text-align: right }\n",
              "    .wandb-row { display: flex; flex-direction: row; flex-wrap: wrap; width: 100% }\n",
              "    .wandb-col { display: flex; flex-direction: column; flex-basis: 100%; flex: 1; padding: 10px; }\n",
              "    </style>\n",
              "<div class=\"wandb-row\"><div class=\"wandb-col\">\n",
              "<h3>Run history:</h3><br/><table class=\"wandb\"><tr><td>train_epoch_accuracy</td><td>▁▂▁▂▂▃▆▅▆▆▅▆▇██</td></tr><tr><td>train_epoch_f1</td><td>▁▃▁▂▂▄▄▅▆▆▅▇▇█▇</td></tr><tr><td>train_epoch_loss</td><td>█▃▃▂▁▂▁▁▁▁▁▁▁▁▁</td></tr><tr><td>train_epoch_precision</td><td>▂▃▁▃▂▅▅▅▆▆▆▇▇█▇</td></tr><tr><td>train_epoch_recall</td><td>▁▂▂▁▂▄▄▅▅▆▅▇▇█▇</td></tr><tr><td>val_acccuracy</td><td>▁</td></tr><tr><td>val_epoch_accuracy</td><td>▄▅▇▁▁▅▅▆▇█▇▇▅▄▅</td></tr><tr><td>val_epoch_f1</td><td>▃▅▅▁▁▃▄▄▆█▅▆▅▃▄</td></tr><tr><td>val_epoch_loss</td><td>█▄▂▂▃▁▃▁▂▁▃▂▃▄▆</td></tr><tr><td>val_epoch_precision</td><td>▃▆▄▁▁▄▃▅▆█▅▆▆▅▃</td></tr><tr><td>val_epoch_recall</td><td>▂▅▅▂▁▂▅▅██▄▆▅▂▄</td></tr><tr><td>val_loss_</td><td>▁</td></tr></table><br/></div><div class=\"wandb-col\">\n",
              "<h3>Run summary:</h3><br/><table class=\"wandb\"><tr><td>train_epoch_accuracy</td><td>0.56211</td></tr><tr><td>train_epoch_f1</td><td>0.43034</td></tr><tr><td>train_epoch_loss</td><td>1.12435</td></tr><tr><td>train_epoch_precision</td><td>0.46181</td></tr><tr><td>train_epoch_recall</td><td>0.46278</td></tr><tr><td>val_acccuracy</td><td>52.0</td></tr><tr><td>val_epoch_accuracy</td><td>0.36</td></tr><tr><td>val_epoch_f1</td><td>0.19611</td></tr><tr><td>val_epoch_loss</td><td>1.51531</td></tr><tr><td>val_epoch_precision</td><td>0.19333</td></tr><tr><td>val_epoch_recall</td><td>0.25667</td></tr><tr><td>val_loss_</td><td>1.23024</td></tr></table>\n",
              "</div></div>\n",
              "Synced 5 W&B file(s), 6 media file(s), 1 artifact file(s) and 0 other file(s)\n",
              "<br/>Synced <strong style=\"color:#cdcd00\">genial-dream-25</strong>: <a href=\"https://wandb.ai/dudeperf3ct/cnn3d/runs/25zuhe29\" target=\"_blank\">https://wandb.ai/dudeperf3ct/cnn3d/runs/25zuhe29</a><br/>\n",
              "Find logs at: <code>./wandb/run-20211112_035240-25zuhe29/logs</code><br/>\n"
            ],
            "text/plain": [
              "<IPython.core.display.HTML object>"
            ]
          },
          "metadata": {}
        },
        {
          "output_type": "display_data",
          "data": {
            "text/html": [
              "Successfully finished last run (ID:25zuhe29). Initializing new run:<br/>"
            ],
            "text/plain": [
              "<IPython.core.display.HTML object>"
            ]
          },
          "metadata": {}
        },
        {
          "output_type": "display_data",
          "data": {
            "text/html": [
              "\n",
              "                    Syncing run <strong><a href=\"https://wandb.ai/dudeperf3ct/cnn3d/runs/3fhuznt4\" target=\"_blank\">azure-galaxy-26</a></strong> to <a href=\"https://wandb.ai/dudeperf3ct/cnn3d\" target=\"_blank\">Weights & Biases</a> (<a href=\"https://docs.wandb.com/integrations/jupyter.html\" target=\"_blank\">docs</a>).<br/>\n",
              "\n",
              "                "
            ],
            "text/plain": [
              "<IPython.core.display.HTML object>"
            ]
          },
          "metadata": {}
        },
        {
          "output_type": "stream",
          "name": "stderr",
          "text": [
            "--------------------------------------------------------------------------------\n",
            "\u001b[34m\u001b[1mHyperparameters: \u001b[0m\n",
            "--------------------------------------------------------------------------------\n",
            "Saved model not found at experiments/cnn3d/resnet10/models/resnet10_cnn3d.pth\n"
          ]
        },
        {
          "output_type": "stream",
          "name": "stdout",
          "text": [
            "{'batch_size': 5,\n",
            " 'embed_size': 128,\n",
            " 'epochs': 15,\n",
            " 'feature_extract': False,\n",
            " 'finetune_layer': -1,\n",
            " 'folds': -1,\n",
            " 'height': 384,\n",
            " 'input_channels': 3,\n",
            " 'learning_rate': 0.0001,\n",
            " 'means': [0.7743833848427648, 0.7983912274706353, 0.8350704625255623],\n",
            " 'model_name': 'resnet10',\n",
            " 'num_classes': 3,\n",
            " 'num_workers': 2,\n",
            " 'optimizer': 'AdamW',\n",
            " 'root_dir': 'dataset/round_all/all',\n",
            " 'save_model_path': 'experiments/cnn3d/resnet10/models/resnet10_cnn3d.pth',\n",
            " 'scheduler': 'OneCycleLR',\n",
            " 'seed': 42,\n",
            " 'stds': [0.14612580442601508, 0.14797858700495264, 0.15152898017083147],\n",
            " 'test_split_ratio': 0.05,\n",
            " 'trained_model_path': None,\n",
            " 'use_pretrain': False,\n",
            " 'use_wandb': True,\n",
            " 'width': 384}\n"
          ]
        },
        {
          "output_type": "stream",
          "name": "stderr",
          "text": [
            "Label Encoding: ['0.0' '0.5' '1.0']\n",
            "Label Mapping: {0: '0.0', 1: '0.5', 2: '1.0'}\n",
            "Class weights for labels: [0.71530758 3.96825397 0.74074074]\n",
            "Loading data\n",
            "Training shape: (475,), (475,), (array([0, 1, 2]), array([221,  40, 214]))\n",
            "Validation shape: (25,), (25,), (array([0, 1, 2]), array([12,  2, 11]))\n",
            "\u001b[34m\u001b[1mStart training pretrained models\u001b[0m\n",
            "\n",
            "---------- EPOCH: 1 | 15 ----------\n",
            "\n",
            "train_loss: 1.10: 100%|██████████| 95/95 [01:36<00:00,  1.02s/it]\n",
            "\u001b[34m\u001b[1mPhase:\u001b[0m train | \u001b[34m\u001b[1mLoss\u001b[0m 1.2861 | \u001b[34m\u001b[1mAccuracy\u001b[0m 0.3853 | \u001b[34m\u001b[1mF1\u001b[0m 0.2517 | \u001b[34m\u001b[1mPrecision\u001b[0m 0.2410 | \u001b[34m\u001b[1mRecall\u001b[0m 0.3411\n",
            "val_loss: 1.09: 100%|██████████| 5/5 [00:02<00:00,  1.99it/s]\n",
            "Val acc improved from 0.0000 to 0.1600.\n",
            "\u001b[34m\u001b[1mPhase:\u001b[0m val | \u001b[34m\u001b[1mLoss\u001b[0m 1.2876 | \u001b[34m\u001b[1mAccuracy\u001b[0m 0.1600 | \u001b[34m\u001b[1mF1\u001b[0m 0.1378 | \u001b[34m\u001b[1mPrecision\u001b[0m 0.2033 | \u001b[34m\u001b[1mRecall\u001b[0m 0.2200\n",
            "\n",
            "---------- EPOCH: 2 | 15 ----------\n",
            "\n",
            "train_loss: 1.26: 100%|██████████| 95/95 [01:36<00:00,  1.02s/it]\n",
            "\u001b[34m\u001b[1mPhase:\u001b[0m train | \u001b[34m\u001b[1mLoss\u001b[0m 1.2336 | \u001b[34m\u001b[1mAccuracy\u001b[0m 0.3937 | \u001b[34m\u001b[1mF1\u001b[0m 0.2744 | \u001b[34m\u001b[1mPrecision\u001b[0m 0.2565 | \u001b[34m\u001b[1mRecall\u001b[0m 0.3715\n",
            "val_loss: 1.12: 100%|██████████| 5/5 [00:02<00:00,  2.03it/s]\n",
            "\u001b[34m\u001b[1mPhase:\u001b[0m val | \u001b[34m\u001b[1mLoss\u001b[0m 1.2272 | \u001b[34m\u001b[1mAccuracy\u001b[0m 0.0800 | \u001b[34m\u001b[1mF1\u001b[0m 0.0556 | \u001b[34m\u001b[1mPrecision\u001b[0m 0.0333 | \u001b[34m\u001b[1mRecall\u001b[0m 0.1667\n",
            "\n",
            "---------- EPOCH: 3 | 15 ----------\n",
            "\n",
            "train_loss: 1.34: 100%|██████████| 95/95 [01:36<00:00,  1.01s/it]\n",
            "\u001b[34m\u001b[1mPhase:\u001b[0m train | \u001b[34m\u001b[1mLoss\u001b[0m 1.2365 | \u001b[34m\u001b[1mAccuracy\u001b[0m 0.3368 | \u001b[34m\u001b[1mF1\u001b[0m 0.2207 | \u001b[34m\u001b[1mPrecision\u001b[0m 0.2247 | \u001b[34m\u001b[1mRecall\u001b[0m 0.3039\n",
            "val_loss: 1.10: 100%|██████████| 5/5 [00:02<00:00,  2.05it/s]\n",
            "Val acc improved from 0.1600 to 0.4800.\n",
            "\u001b[34m\u001b[1mPhase:\u001b[0m val | \u001b[34m\u001b[1mLoss\u001b[0m 1.2148 | \u001b[34m\u001b[1mAccuracy\u001b[0m 0.4800 | \u001b[34m\u001b[1mF1\u001b[0m 0.2730 | \u001b[34m\u001b[1mPrecision\u001b[0m 0.2267 | \u001b[34m\u001b[1mRecall\u001b[0m 0.3667\n",
            "\n",
            "---------- EPOCH: 4 | 15 ----------\n",
            "\n",
            "train_loss: 1.12: 100%|██████████| 95/95 [01:36<00:00,  1.01s/it]\n",
            "\u001b[34m\u001b[1mPhase:\u001b[0m train | \u001b[34m\u001b[1mLoss\u001b[0m 1.2209 | \u001b[34m\u001b[1mAccuracy\u001b[0m 0.4505 | \u001b[34m\u001b[1mF1\u001b[0m 0.3049 | \u001b[34m\u001b[1mPrecision\u001b[0m 0.2805 | \u001b[34m\u001b[1mRecall\u001b[0m 0.4172\n",
            "val_loss: 1.20: 100%|██████████| 5/5 [00:02<00:00,  2.07it/s]\n",
            "\u001b[34m\u001b[1mPhase:\u001b[0m val | \u001b[34m\u001b[1mLoss\u001b[0m 1.1962 | \u001b[34m\u001b[1mAccuracy\u001b[0m 0.4400 | \u001b[34m\u001b[1mF1\u001b[0m 0.2705 | \u001b[34m\u001b[1mPrecision\u001b[0m 0.3083 | \u001b[34m\u001b[1mRecall\u001b[0m 0.3383\n",
            "\n",
            "---------- EPOCH: 5 | 15 ----------\n",
            "\n",
            "train_loss: 1.32: 100%|██████████| 95/95 [01:36<00:00,  1.01s/it]\n",
            "\u001b[34m\u001b[1mPhase:\u001b[0m train | \u001b[34m\u001b[1mLoss\u001b[0m 1.2204 | \u001b[34m\u001b[1mAccuracy\u001b[0m 0.3516 | \u001b[34m\u001b[1mF1\u001b[0m 0.2883 | \u001b[34m\u001b[1mPrecision\u001b[0m 0.3138 | \u001b[34m\u001b[1mRecall\u001b[0m 0.3130\n",
            "val_loss: 1.07: 100%|██████████| 5/5 [00:02<00:00,  1.98it/s]\n",
            "\u001b[34m\u001b[1mPhase:\u001b[0m val | \u001b[34m\u001b[1mLoss\u001b[0m 1.2169 | \u001b[34m\u001b[1mAccuracy\u001b[0m 0.1200 | \u001b[34m\u001b[1mF1\u001b[0m 0.0756 | \u001b[34m\u001b[1mPrecision\u001b[0m 0.1167 | \u001b[34m\u001b[1mRecall\u001b[0m 0.1000\n",
            "\n",
            "---------- EPOCH: 6 | 15 ----------\n",
            "\n",
            "train_loss: 1.21: 100%|██████████| 95/95 [01:36<00:00,  1.01s/it]\n",
            "\u001b[34m\u001b[1mPhase:\u001b[0m train | \u001b[34m\u001b[1mLoss\u001b[0m 1.2249 | \u001b[34m\u001b[1mAccuracy\u001b[0m 0.3453 | \u001b[34m\u001b[1mF1\u001b[0m 0.2632 | \u001b[34m\u001b[1mPrecision\u001b[0m 0.2673 | \u001b[34m\u001b[1mRecall\u001b[0m 0.3472\n",
            "val_loss: 1.27: 100%|██████████| 5/5 [00:02<00:00,  2.05it/s]\n",
            "Val acc improved from 0.4800 to 0.6000.\n",
            "\u001b[34m\u001b[1mPhase:\u001b[0m val | \u001b[34m\u001b[1mLoss\u001b[0m 1.2305 | \u001b[34m\u001b[1mAccuracy\u001b[0m 0.6000 | \u001b[34m\u001b[1mF1\u001b[0m 0.3906 | \u001b[34m\u001b[1mPrecision\u001b[0m 0.3972 | \u001b[34m\u001b[1mRecall\u001b[0m 0.3883\n",
            "\n",
            "---------- EPOCH: 7 | 15 ----------\n",
            "\n",
            "train_loss: 1.25: 100%|██████████| 95/95 [01:36<00:00,  1.01s/it]\n",
            "\u001b[34m\u001b[1mPhase:\u001b[0m train | \u001b[34m\u001b[1mLoss\u001b[0m 1.2078 | \u001b[34m\u001b[1mAccuracy\u001b[0m 0.4253 | \u001b[34m\u001b[1mF1\u001b[0m 0.3503 | \u001b[34m\u001b[1mPrecision\u001b[0m 0.3827 | \u001b[34m\u001b[1mRecall\u001b[0m 0.3983\n",
            "val_loss: 1.23: 100%|██████████| 5/5 [00:02<00:00,  2.03it/s]\n",
            "\u001b[34m\u001b[1mPhase:\u001b[0m val | \u001b[34m\u001b[1mLoss\u001b[0m 1.2073 | \u001b[34m\u001b[1mAccuracy\u001b[0m 0.4400 | \u001b[34m\u001b[1mF1\u001b[0m 0.3464 | \u001b[34m\u001b[1mPrecision\u001b[0m 0.3067 | \u001b[34m\u001b[1mRecall\u001b[0m 0.4667\n",
            "\n",
            "---------- EPOCH: 8 | 15 ----------\n",
            "\n",
            "train_loss: 1.26: 100%|██████████| 95/95 [01:36<00:00,  1.01s/it]\n",
            "\u001b[34m\u001b[1mPhase:\u001b[0m train | \u001b[34m\u001b[1mLoss\u001b[0m 1.2076 | \u001b[34m\u001b[1mAccuracy\u001b[0m 0.5179 | \u001b[34m\u001b[1mF1\u001b[0m 0.3680 | \u001b[34m\u001b[1mPrecision\u001b[0m 0.3611 | \u001b[34m\u001b[1mRecall\u001b[0m 0.4654\n",
            "val_loss: 1.12: 100%|██████████| 5/5 [00:02<00:00,  2.09it/s]\n",
            "\u001b[34m\u001b[1mPhase:\u001b[0m val | \u001b[34m\u001b[1mLoss\u001b[0m 1.2159 | \u001b[34m\u001b[1mAccuracy\u001b[0m 0.4800 | \u001b[34m\u001b[1mF1\u001b[0m 0.2894 | \u001b[34m\u001b[1mPrecision\u001b[0m 0.3500 | \u001b[34m\u001b[1mRecall\u001b[0m 0.2544\n",
            "\n",
            "---------- EPOCH: 9 | 15 ----------\n",
            "\n",
            "train_loss: 1.22: 100%|██████████| 95/95 [01:36<00:00,  1.01s/it]\n",
            "\u001b[34m\u001b[1mPhase:\u001b[0m train | \u001b[34m\u001b[1mLoss\u001b[0m 1.1985 | \u001b[34m\u001b[1mAccuracy\u001b[0m 0.3916 | \u001b[34m\u001b[1mF1\u001b[0m 0.3227 | \u001b[34m\u001b[1mPrecision\u001b[0m 0.3497 | \u001b[34m\u001b[1mRecall\u001b[0m 0.3783\n",
            "val_loss: 1.07: 100%|██████████| 5/5 [00:02<00:00,  2.00it/s]\n",
            "\u001b[34m\u001b[1mPhase:\u001b[0m val | \u001b[34m\u001b[1mLoss\u001b[0m 1.3037 | \u001b[34m\u001b[1mAccuracy\u001b[0m 0.4800 | \u001b[34m\u001b[1mF1\u001b[0m 0.2730 | \u001b[34m\u001b[1mPrecision\u001b[0m 0.2267 | \u001b[34m\u001b[1mRecall\u001b[0m 0.3667\n",
            "\n",
            "---------- EPOCH: 10 | 15 ----------\n",
            "\n",
            "train_loss: 1.20: 100%|██████████| 95/95 [01:35<00:00,  1.01s/it]\n",
            "\u001b[34m\u001b[1mPhase:\u001b[0m train | \u001b[34m\u001b[1mLoss\u001b[0m 1.2134 | \u001b[34m\u001b[1mAccuracy\u001b[0m 0.4337 | \u001b[34m\u001b[1mF1\u001b[0m 0.3283 | \u001b[34m\u001b[1mPrecision\u001b[0m 0.3441 | \u001b[34m\u001b[1mRecall\u001b[0m 0.3920\n",
            "val_loss: 1.30: 100%|██████████| 5/5 [00:02<00:00,  1.98it/s]\n",
            "Val acc improved from 0.6000 to 0.7200.\n",
            "\u001b[34m\u001b[1mPhase:\u001b[0m val | \u001b[34m\u001b[1mLoss\u001b[0m 1.2171 | \u001b[34m\u001b[1mAccuracy\u001b[0m 0.7200 | \u001b[34m\u001b[1mF1\u001b[0m 0.6679 | \u001b[34m\u001b[1mPrecision\u001b[0m 0.7167 | \u001b[34m\u001b[1mRecall\u001b[0m 0.6917\n",
            "\n",
            "---------- EPOCH: 11 | 15 ----------\n",
            "\n",
            "train_loss: 1.13: 100%|██████████| 95/95 [01:36<00:00,  1.01s/it]\n",
            "\u001b[34m\u001b[1mPhase:\u001b[0m train | \u001b[34m\u001b[1mLoss\u001b[0m 1.2066 | \u001b[34m\u001b[1mAccuracy\u001b[0m 0.5326 | \u001b[34m\u001b[1mF1\u001b[0m 0.4299 | \u001b[34m\u001b[1mPrecision\u001b[0m 0.4510 | \u001b[34m\u001b[1mRecall\u001b[0m 0.4913\n",
            "val_loss: 1.20: 100%|██████████| 5/5 [00:02<00:00,  2.04it/s]\n",
            "\u001b[34m\u001b[1mPhase:\u001b[0m val | \u001b[34m\u001b[1mLoss\u001b[0m 1.2053 | \u001b[34m\u001b[1mAccuracy\u001b[0m 0.6000 | \u001b[34m\u001b[1mF1\u001b[0m 0.4481 | \u001b[34m\u001b[1mPrecision\u001b[0m 0.4750 | \u001b[34m\u001b[1mRecall\u001b[0m 0.4350\n",
            "\n",
            "---------- EPOCH: 12 | 15 ----------\n",
            "\n",
            "train_loss: 1.17: 100%|██████████| 95/95 [01:35<00:00,  1.01s/it]\n",
            "\u001b[34m\u001b[1mPhase:\u001b[0m train | \u001b[34m\u001b[1mLoss\u001b[0m 1.1989 | \u001b[34m\u001b[1mAccuracy\u001b[0m 0.5200 | \u001b[34m\u001b[1mF1\u001b[0m 0.4041 | \u001b[34m\u001b[1mPrecision\u001b[0m 0.4150 | \u001b[34m\u001b[1mRecall\u001b[0m 0.4920\n",
            "val_loss: 1.10: 100%|██████████| 5/5 [00:02<00:00,  2.05it/s]\n",
            "\u001b[34m\u001b[1mPhase:\u001b[0m val | \u001b[34m\u001b[1mLoss\u001b[0m 1.1923 | \u001b[34m\u001b[1mAccuracy\u001b[0m 0.4800 | \u001b[34m\u001b[1mF1\u001b[0m 0.3042 | \u001b[34m\u001b[1mPrecision\u001b[0m 0.3461 | \u001b[34m\u001b[1mRecall\u001b[0m 0.3717\n",
            "\n",
            "---------- EPOCH: 13 | 15 ----------\n",
            "\n",
            "train_loss: 1.12: 100%|██████████| 95/95 [01:35<00:00,  1.01s/it]\n",
            "\u001b[34m\u001b[1mPhase:\u001b[0m train | \u001b[34m\u001b[1mLoss\u001b[0m 1.1946 | \u001b[34m\u001b[1mAccuracy\u001b[0m 0.5263 | \u001b[34m\u001b[1mF1\u001b[0m 0.4250 | \u001b[34m\u001b[1mPrecision\u001b[0m 0.4561 | \u001b[34m\u001b[1mRecall\u001b[0m 0.4723\n",
            "val_loss: 0.92: 100%|██████████| 5/5 [00:02<00:00,  2.01it/s]\n",
            "\u001b[34m\u001b[1mPhase:\u001b[0m val | \u001b[34m\u001b[1mLoss\u001b[0m 1.2599 | \u001b[34m\u001b[1mAccuracy\u001b[0m 0.4000 | \u001b[34m\u001b[1mF1\u001b[0m 0.2183 | \u001b[34m\u001b[1mPrecision\u001b[0m 0.1867 | \u001b[34m\u001b[1mRecall\u001b[0m 0.2833\n",
            "\n",
            "---------- EPOCH: 14 | 15 ----------\n",
            "\n",
            "train_loss: 1.12: 100%|██████████| 95/95 [01:36<00:00,  1.01s/it]\n",
            "\u001b[34m\u001b[1mPhase:\u001b[0m train | \u001b[34m\u001b[1mLoss\u001b[0m 1.1958 | \u001b[34m\u001b[1mAccuracy\u001b[0m 0.5284 | \u001b[34m\u001b[1mF1\u001b[0m 0.4419 | \u001b[34m\u001b[1mPrecision\u001b[0m 0.4751 | \u001b[34m\u001b[1mRecall\u001b[0m 0.4993\n",
            "val_loss: 1.21: 100%|██████████| 5/5 [00:02<00:00,  2.01it/s]\n",
            "\u001b[34m\u001b[1mPhase:\u001b[0m val | \u001b[34m\u001b[1mLoss\u001b[0m 1.2149 | \u001b[34m\u001b[1mAccuracy\u001b[0m 0.4400 | \u001b[34m\u001b[1mF1\u001b[0m 0.3464 | \u001b[34m\u001b[1mPrecision\u001b[0m 0.3067 | \u001b[34m\u001b[1mRecall\u001b[0m 0.4667\n",
            "\n",
            "---------- EPOCH: 15 | 15 ----------\n",
            "\n",
            "train_loss: 1.11: 100%|██████████| 95/95 [01:36<00:00,  1.01s/it]\n",
            "\u001b[34m\u001b[1mPhase:\u001b[0m train | \u001b[34m\u001b[1mLoss\u001b[0m 1.1850 | \u001b[34m\u001b[1mAccuracy\u001b[0m 0.5621 | \u001b[34m\u001b[1mF1\u001b[0m 0.4828 | \u001b[34m\u001b[1mPrecision\u001b[0m 0.5131 | \u001b[34m\u001b[1mRecall\u001b[0m 0.5457\n",
            "val_loss: 1.04: 100%|██████████| 5/5 [00:02<00:00,  2.04it/s]\n",
            "\u001b[34m\u001b[1mPhase:\u001b[0m val | \u001b[34m\u001b[1mLoss\u001b[0m 1.2098 | \u001b[34m\u001b[1mAccuracy\u001b[0m 0.4800 | \u001b[34m\u001b[1mF1\u001b[0m 0.2937 | \u001b[34m\u001b[1mPrecision\u001b[0m 0.3067 | \u001b[34m\u001b[1mRecall\u001b[0m 0.3500\n",
            "Training complete in 24m 41s\n",
            "\u001b[34m\u001b[1mBest val Acc: 0.720000\u001b[0m\n",
            "Saving best pretrained model at experiments/cnn3d/resnet10/models/resnet10_cnn3d.pth\n",
            "test_loss: 1.30: 100%|██████████| 5/5 [00:02<00:00,  1.68it/s]\n"
          ]
        },
        {
          "output_type": "stream",
          "name": "stdout",
          "text": [
            "\u001b[34m\u001b[1mTest Loss:\u001b[0m 1.2171\n",
            "\n",
            "Test Accuracy of     0: 58.33% ( 7/12)\n",
            "Test Accuracy of     1: 0.00% ( 0/ 2)\n",
            "Test Accuracy of     2: 100.00% (11/11)\n",
            "\n",
            " \u001b[34m\u001b[1mTest Accuracy (Overall):\u001b[0m  72.00% (18/25)\n",
            "\n",
            " \u001b[34m\u001b[1mConfusion Matrix\u001b[0m \n",
            " [[ 7.  0.  5.]\n",
            " [ 0.  0.  2.]\n",
            " [ 0.  0. 11.]]\n"
          ]
        },
        {
          "output_type": "display_data",
          "data": {
            "image/png": "[encoded data removed]",
            "text/plain": [
              "<Figure size 576x432 with 2 Axes>"
            ]
          },
          "metadata": {
            "needs_background": "light"
          }
        },
        {
          "output_type": "stream",
          "name": "stdout",
          "text": [
            "\n",
            " \u001b[34m\u001b[1mClassification Report\u001b[0m \n",
            "               precision    recall  f1-score   support\n",
            "\n",
            "           0       1.00      0.58      0.74        12\n",
            "           1       0.00      0.00      0.00         2\n",
            "           2       0.61      1.00      0.76        11\n",
            "\n",
            "    accuracy                           0.72        25\n",
            "   macro avg       0.54      0.53      0.50        25\n",
            "weighted avg       0.75      0.72      0.69        25\n",
            "\n"
          ]
        },
        {
          "output_type": "error",
          "ename": "StopIteration",
          "evalue": "ignored",
          "traceback": [
            "\u001b[0;31m---------------------------------------------------------------------------\u001b[0m",
            "\u001b[0;31mStopIteration\u001b[0m                             Traceback (most recent call last)",
            "\u001b[0;32m/content/diamond-clarity/main.py\u001b[0m in \u001b[0;36m<module>\u001b[0;34m()\u001b[0m\n\u001b[1;32m     14\u001b[0m     \u001b[0;31m# perform simple training\u001b[0m\u001b[0;34m\u001b[0m\u001b[0;34m\u001b[0m\u001b[0;34m\u001b[0m\u001b[0m\n\u001b[1;32m     15\u001b[0m     \u001b[0;32melse\u001b[0m\u001b[0;34m:\u001b[0m\u001b[0;34m\u001b[0m\u001b[0;34m\u001b[0m\u001b[0m\n\u001b[0;32m---> 16\u001b[0;31m         \u001b[0mmodel\u001b[0m\u001b[0;34m.\u001b[0m\u001b[0mtrain\u001b[0m\u001b[0;34m(\u001b[0m\u001b[0mtrain_df\u001b[0m\u001b[0;34m)\u001b[0m\u001b[0;34m\u001b[0m\u001b[0;34m\u001b[0m\u001b[0m\n\u001b[0m",
            "\u001b[0;32m/content/diamond-clarity/train.py\u001b[0m in \u001b[0;36mtrain\u001b[0;34m(self, train_df)\u001b[0m\n\u001b[1;32m    383\u001b[0m             \u001b[0mlogging\u001b[0m\u001b[0;34m.\u001b[0m\u001b[0minfo\u001b[0m\u001b[0;34m(\u001b[0m\u001b[0mcolorstr\u001b[0m\u001b[0;34m(\u001b[0m\u001b[0;34m\"Start finetuning pretrained model\"\u001b[0m\u001b[0;34m)\u001b[0m\u001b[0;34m)\u001b[0m\u001b[0;34m\u001b[0m\u001b[0;34m\u001b[0m\u001b[0m\n\u001b[1;32m    384\u001b[0m             \u001b[0m_\u001b[0m \u001b[0;34m=\u001b[0m \u001b[0mself\u001b[0m\u001b[0;34m.\u001b[0m\u001b[0mtrain_finetune\u001b[0m\u001b[0;34m(\u001b[0m\u001b[0mcws\u001b[0m\u001b[0;34m,\u001b[0m \u001b[0mtrain_loader_length\u001b[0m\u001b[0;34m,\u001b[0m \u001b[0mdataloaders_dict\u001b[0m\u001b[0;34m)\u001b[0m\u001b[0;34m\u001b[0m\u001b[0;34m\u001b[0m\u001b[0m\n\u001b[0;32m--> 385\u001b[0;31m         \u001b[0mself\u001b[0m\u001b[0;34m.\u001b[0m\u001b[0mevaluate\u001b[0m\u001b[0;34m(\u001b[0m\u001b[0mval_loader\u001b[0m\u001b[0;34m,\u001b[0m \u001b[0mcws\u001b[0m\u001b[0;34m,\u001b[0m \u001b[0;32mTrue\u001b[0m\u001b[0;34m,\u001b[0m \u001b[0;32mFalse\u001b[0m\u001b[0;34m)\u001b[0m\u001b[0;34m\u001b[0m\u001b[0;34m\u001b[0m\u001b[0m\n\u001b[0m\u001b[1;32m    386\u001b[0m \u001b[0;34m\u001b[0m\u001b[0m\n\u001b[1;32m    387\u001b[0m     \u001b[0;32mdef\u001b[0m \u001b[0mevaluate\u001b[0m\u001b[0;34m(\u001b[0m\u001b[0mself\u001b[0m\u001b[0;34m,\u001b[0m \u001b[0mval_loader\u001b[0m\u001b[0;34m,\u001b[0m \u001b[0mcws\u001b[0m\u001b[0;34m,\u001b[0m \u001b[0mvis_prediction\u001b[0m\u001b[0;34m:\u001b[0m \u001b[0mbool\u001b[0m \u001b[0;34m=\u001b[0m \u001b[0;32mTrue\u001b[0m\u001b[0;34m,\u001b[0m \u001b[0mis_test\u001b[0m\u001b[0;34m:\u001b[0m \u001b[0mbool\u001b[0m \u001b[0;34m=\u001b[0m \u001b[0;32mFalse\u001b[0m\u001b[0;34m)\u001b[0m\u001b[0;34m:\u001b[0m\u001b[0;34m\u001b[0m\u001b[0;34m\u001b[0m\u001b[0m\n",
            "\u001b[0;32m/content/diamond-clarity/train.py\u001b[0m in \u001b[0;36mevaluate\u001b[0;34m(self, val_loader, cws, vis_prediction, is_test)\u001b[0m\n\u001b[1;32m    402\u001b[0m             \u001b[0mcriterion\u001b[0m \u001b[0;34m=\u001b[0m \u001b[0mnn\u001b[0m\u001b[0;34m.\u001b[0m\u001b[0mCrossEntropyLoss\u001b[0m\u001b[0;34m(\u001b[0m\u001b[0mweight\u001b[0m\u001b[0;34m=\u001b[0m\u001b[0mtorch\u001b[0m\u001b[0;34m.\u001b[0m\u001b[0mfrom_numpy\u001b[0m\u001b[0;34m(\u001b[0m\u001b[0mcws\u001b[0m\u001b[0;34m)\u001b[0m\u001b[0;34m.\u001b[0m\u001b[0mfloat\u001b[0m\u001b[0;34m(\u001b[0m\u001b[0;34m)\u001b[0m\u001b[0;34m,\u001b[0m \u001b[0mlabel_smoothing\u001b[0m\u001b[0;34m=\u001b[0m\u001b[0;36m0.1\u001b[0m\u001b[0;34m)\u001b[0m\u001b[0;34m.\u001b[0m\u001b[0mto\u001b[0m\u001b[0;34m(\u001b[0m\u001b[0mdevice\u001b[0m\u001b[0;34m)\u001b[0m\u001b[0;34m\u001b[0m\u001b[0;34m\u001b[0m\u001b[0m\n\u001b[1;32m    403\u001b[0m         test_model(self.save_model_path, val_loader, criterion, self.num_classes, self.classes, device, self.use_wandb,\n\u001b[0;32m--> 404\u001b[0;31m                    vis_prediction, self.means, self.stds, is_test)\n\u001b[0m\u001b[1;32m    405\u001b[0m \u001b[0;34m\u001b[0m\u001b[0m\n\u001b[1;32m    406\u001b[0m     \u001b[0;32mdef\u001b[0m \u001b[0mtrain_k_folds\u001b[0m\u001b[0;34m(\u001b[0m\u001b[0mself\u001b[0m\u001b[0;34m,\u001b[0m \u001b[0mtrain_df\u001b[0m\u001b[0;34m:\u001b[0m \u001b[0mpd\u001b[0m\u001b[0;34m.\u001b[0m\u001b[0mDataFrame\u001b[0m\u001b[0;34m)\u001b[0m\u001b[0;34m:\u001b[0m\u001b[0;34m\u001b[0m\u001b[0;34m\u001b[0m\u001b[0m\n",
            "\u001b[0;32m/content/diamond-clarity/evaluate.py\u001b[0m in \u001b[0;36mtest_model\u001b[0;34m(model_path, test_loader, criterion, num_classes, classes, device, use_wandb, vis_prediction, means, stds, is_test)\u001b[0m\n\u001b[1;32m    162\u001b[0m \u001b[0;34m\u001b[0m\u001b[0m\n\u001b[1;32m    163\u001b[0m     \u001b[0;32mif\u001b[0m \u001b[0mvis_prediction\u001b[0m\u001b[0;34m:\u001b[0m\u001b[0;34m\u001b[0m\u001b[0;34m\u001b[0m\u001b[0m\n\u001b[0;32m--> 164\u001b[0;31m         \u001b[0mfig\u001b[0m \u001b[0;34m=\u001b[0m \u001b[0mplot_predictions\u001b[0m\u001b[0;34m(\u001b[0m\u001b[0mmodel\u001b[0m\u001b[0;34m,\u001b[0m \u001b[0mtest_loader\u001b[0m\u001b[0;34m,\u001b[0m \u001b[0mdevice\u001b[0m\u001b[0;34m,\u001b[0m \u001b[0mclasses\u001b[0m\u001b[0;34m,\u001b[0m \u001b[0mmeans\u001b[0m\u001b[0;34m,\u001b[0m \u001b[0mstds\u001b[0m\u001b[0;34m)\u001b[0m\u001b[0;34m\u001b[0m\u001b[0;34m\u001b[0m\u001b[0m\n\u001b[0m\u001b[1;32m    165\u001b[0m         \u001b[0mplt\u001b[0m\u001b[0;34m.\u001b[0m\u001b[0mshow\u001b[0m\u001b[0;34m(\u001b[0m\u001b[0;34m)\u001b[0m\u001b[0;34m\u001b[0m\u001b[0;34m\u001b[0m\u001b[0m\n",
            "\u001b[0;32m/content/diamond-clarity/utils.py\u001b[0m in \u001b[0;36mplot_predictions\u001b[0;34m(model, test_loader, device, classes, means, stds)\u001b[0m\n\u001b[1;32m    162\u001b[0m     \u001b[0mimages\u001b[0m\u001b[0;34m,\u001b[0m \u001b[0mlabels\u001b[0m\u001b[0;34m,\u001b[0m \u001b[0mpreds\u001b[0m\u001b[0;34m,\u001b[0m \u001b[0mprobab\u001b[0m \u001b[0;34m=\u001b[0m \u001b[0;34m[\u001b[0m\u001b[0;34m]\u001b[0m\u001b[0;34m,\u001b[0m \u001b[0;34m[\u001b[0m\u001b[0;34m]\u001b[0m\u001b[0;34m,\u001b[0m \u001b[0;34m[\u001b[0m\u001b[0;34m]\u001b[0m\u001b[0;34m,\u001b[0m \u001b[0;34m[\u001b[0m\u001b[0;34m]\u001b[0m\u001b[0;34m\u001b[0m\u001b[0;34m\u001b[0m\u001b[0m\n\u001b[1;32m    163\u001b[0m     \u001b[0;32mfor\u001b[0m \u001b[0m_\u001b[0m \u001b[0;32min\u001b[0m \u001b[0mrange\u001b[0m\u001b[0;34m(\u001b[0m\u001b[0;36m20\u001b[0m\u001b[0;34m)\u001b[0m\u001b[0;34m:\u001b[0m\u001b[0;34m\u001b[0m\u001b[0;34m\u001b[0m\u001b[0m\n\u001b[0;32m--> 164\u001b[0;31m         \u001b[0mimg\u001b[0m\u001b[0;34m,\u001b[0m \u001b[0mlbl\u001b[0m \u001b[0;34m=\u001b[0m \u001b[0mdataiter\u001b[0m\u001b[0;34m.\u001b[0m\u001b[0mnext\u001b[0m\u001b[0;34m(\u001b[0m\u001b[0;34m)\u001b[0m\u001b[0;34m\u001b[0m\u001b[0;34m\u001b[0m\u001b[0m\n\u001b[0m\u001b[1;32m    165\u001b[0m         \u001b[0mimg\u001b[0m\u001b[0;34m,\u001b[0m \u001b[0mlbl\u001b[0m \u001b[0;34m=\u001b[0m \u001b[0mimg\u001b[0m\u001b[0;34m.\u001b[0m\u001b[0mto\u001b[0m\u001b[0;34m(\u001b[0m\u001b[0mdevice\u001b[0m\u001b[0;34m)\u001b[0m\u001b[0;34m,\u001b[0m \u001b[0mlbl\u001b[0m\u001b[0;34m.\u001b[0m\u001b[0mtolist\u001b[0m\u001b[0;34m(\u001b[0m\u001b[0;34m)\u001b[0m\u001b[0;34m\u001b[0m\u001b[0;34m\u001b[0m\u001b[0m\n\u001b[1;32m    166\u001b[0m         \u001b[0;32mwith\u001b[0m \u001b[0mtorch\u001b[0m\u001b[0;34m.\u001b[0m\u001b[0mno_grad\u001b[0m\u001b[0;34m(\u001b[0m\u001b[0;34m)\u001b[0m\u001b[0;34m:\u001b[0m\u001b[0;34m\u001b[0m\u001b[0;34m\u001b[0m\u001b[0m\n",
            "\u001b[0;32m/usr/local/lib/python3.7/dist-packages/torch/utils/data/dataloader.py\u001b[0m in \u001b[0;36m__next__\u001b[0;34m(self)\u001b[0m\n\u001b[1;32m    519\u001b[0m             \u001b[0;32mif\u001b[0m \u001b[0mself\u001b[0m\u001b[0;34m.\u001b[0m\u001b[0m_sampler_iter\u001b[0m \u001b[0;32mis\u001b[0m \u001b[0;32mNone\u001b[0m\u001b[0;34m:\u001b[0m\u001b[0;34m\u001b[0m\u001b[0;34m\u001b[0m\u001b[0m\n\u001b[1;32m    520\u001b[0m                 \u001b[0mself\u001b[0m\u001b[0;34m.\u001b[0m\u001b[0m_reset\u001b[0m\u001b[0;34m(\u001b[0m\u001b[0;34m)\u001b[0m\u001b[0;34m\u001b[0m\u001b[0;34m\u001b[0m\u001b[0m\n\u001b[0;32m--> 521\u001b[0;31m             \u001b[0mdata\u001b[0m \u001b[0;34m=\u001b[0m \u001b[0mself\u001b[0m\u001b[0;34m.\u001b[0m\u001b[0m_next_data\u001b[0m\u001b[0;34m(\u001b[0m\u001b[0;34m)\u001b[0m\u001b[0;34m\u001b[0m\u001b[0;34m\u001b[0m\u001b[0m\n\u001b[0m\u001b[1;32m    522\u001b[0m             \u001b[0mself\u001b[0m\u001b[0;34m.\u001b[0m\u001b[0m_num_yielded\u001b[0m \u001b[0;34m+=\u001b[0m \u001b[0;36m1\u001b[0m\u001b[0;34m\u001b[0m\u001b[0;34m\u001b[0m\u001b[0m\n\u001b[1;32m    523\u001b[0m             \u001b[0;32mif\u001b[0m \u001b[0mself\u001b[0m\u001b[0;34m.\u001b[0m\u001b[0m_dataset_kind\u001b[0m \u001b[0;34m==\u001b[0m \u001b[0m_DatasetKind\u001b[0m\u001b[0;34m.\u001b[0m\u001b[0mIterable\u001b[0m \u001b[0;32mand\u001b[0m\u001b[0;31m \u001b[0m\u001b[0;31m\\\u001b[0m\u001b[0;34m\u001b[0m\u001b[0;34m\u001b[0m\u001b[0m\n",
            "\u001b[0;32m/usr/local/lib/python3.7/dist-packages/torch/utils/data/dataloader.py\u001b[0m in \u001b[0;36m_next_data\u001b[0;34m(self)\u001b[0m\n\u001b[1;32m   1174\u001b[0m                 \u001b[0;32mif\u001b[0m \u001b[0;32mnot\u001b[0m \u001b[0mself\u001b[0m\u001b[0;34m.\u001b[0m\u001b[0m_persistent_workers\u001b[0m\u001b[0;34m:\u001b[0m\u001b[0;34m\u001b[0m\u001b[0;34m\u001b[0m\u001b[0m\n\u001b[1;32m   1175\u001b[0m                     \u001b[0mself\u001b[0m\u001b[0;34m.\u001b[0m\u001b[0m_shutdown_workers\u001b[0m\u001b[0;34m(\u001b[0m\u001b[0;34m)\u001b[0m\u001b[0;34m\u001b[0m\u001b[0;34m\u001b[0m\u001b[0m\n\u001b[0;32m-> 1176\u001b[0;31m                 \u001b[0;32mraise\u001b[0m \u001b[0mStopIteration\u001b[0m\u001b[0;34m\u001b[0m\u001b[0;34m\u001b[0m\u001b[0m\n\u001b[0m\u001b[1;32m   1177\u001b[0m \u001b[0;34m\u001b[0m\u001b[0m\n\u001b[1;32m   1178\u001b[0m             \u001b[0;31m# Now `self._rcvd_idx` is the batch index we want to fetch\u001b[0m\u001b[0;34m\u001b[0m\u001b[0;34m\u001b[0m\u001b[0;34m\u001b[0m\u001b[0m\n",
            "\u001b[0;31mStopIteration\u001b[0m: "
          ]
        }
      ]
    },
    {
      "cell_type": "code",
      "metadata": {
        "id": "Okeb3Guz1AOF",
        "colab": {
          "base_uri": "https://localhost:8080/",
          "height": 1000,
          "referenced_widgets": [
            "7722ceb042f847c88795438819b3f34e",
            "8a046126527e4ceab2b9ac5c58c7051b",
            "071ef15086eb4f7b81c8683e5155f6d3",
            "1ccad0c198044a8cac3b83a695a176ba",
            "ec22c2d931c34b5899c531225cbb63ea",
            "fc6aed00c70041a6b166493d446b3d14",
            "ad0fe202db2142b09c231c738f017dd7",
            "4bf66db1c437442dab256a253c274d6b"
          ]
        },
        "outputId": "f3f9a5d1-fa8d-4dcb-d079-8fe2169e279b"
      },
      "source": [
        "%run main.py"
      ],
      "execution_count": null,
      "outputs": [
        {
          "output_type": "stream",
          "name": "stderr",
          "text": [
            "Creating a logging file at experiments/cnn3d/resnet18/resnet18.log\n",
            "Parent Directory experiments/cnn3d/resnet18 exists!!\n",
            "Creating models directory at experiments/cnn3d/resnet18/models\n"
          ]
        },
        {
          "output_type": "display_data",
          "data": {
            "text/html": [
              "Finishing last run (ID:3fhuznt4) before initializing another..."
            ],
            "text/plain": [
              "<IPython.core.display.HTML object>"
            ]
          },
          "metadata": {}
        },
        {
          "output_type": "display_data",
          "data": {
            "text/html": [
              "<br/>Waiting for W&B process to finish, PID 1206... <strong style=\"color:green\">(success).</strong>"
            ],
            "text/plain": [
              "<IPython.core.display.HTML object>"
            ]
          },
          "metadata": {}
        },
        {
          "output_type": "display_data",
          "data": {
            "application/vnd.jupyter.widget-view+json": {
              "model_id": "7722ceb042f847c88795438819b3f34e",
              "version_minor": 0,
              "version_major": 2
            },
            "text/plain": [
              "VBox(children=(Label(value=' 1.22MB of 1.22MB uploaded (0.00MB deduped)\\r'), FloatProgress(value=1.0, max=1.0)…"
            ]
          },
          "metadata": {}
        },
        {
          "output_type": "display_data",
          "data": {
            "text/html": [
              "<style>\n",
              "    table.wandb td:nth-child(1) { padding: 0 10px; text-align: right }\n",
              "    .wandb-row { display: flex; flex-direction: row; flex-wrap: wrap; width: 100% }\n",
              "    .wandb-col { display: flex; flex-direction: column; flex-basis: 100%; flex: 1; padding: 10px; }\n",
              "    </style>\n",
              "<div class=\"wandb-row\"><div class=\"wandb-col\">\n",
              "<h3>Run history:</h3><br/><table class=\"wandb\"><tr><td>train_epoch_accuracy</td><td>▃▃▁▅▁▁▄▇▃▄▇▇▇▇█</td></tr><tr><td>train_epoch_f1</td><td>▂▂▁▃▃▂▄▅▄▄▇▆▆▇█</td></tr><tr><td>train_epoch_loss</td><td>█▄▅▃▃▄▃▃▂▃▂▂▂▂▁</td></tr><tr><td>train_epoch_precision</td><td>▁▂▁▂▃▂▅▄▄▄▆▆▇▇█</td></tr><tr><td>train_epoch_recall</td><td>▂▃▁▄▁▂▄▆▃▄▆▆▆▇█</td></tr><tr><td>val_acccuracy</td><td>▁</td></tr><tr><td>val_epoch_accuracy</td><td>▂▁▅▅▁▇▅▅▅█▇▅▄▅▅</td></tr><tr><td>val_epoch_f1</td><td>▂▁▃▃▁▅▄▄▃█▅▄▃▄▄</td></tr><tr><td>val_epoch_loss</td><td>▇▃▂▁▃▃▂▂█▃▂▁▅▂▂</td></tr><tr><td>val_epoch_precision</td><td>▃▁▃▄▂▅▄▄▃█▆▄▃▄▄</td></tr><tr><td>val_epoch_recall</td><td>▂▂▄▄▁▄▅▃▄█▅▄▃▅▄</td></tr><tr><td>val_loss_</td><td>▁</td></tr></table><br/></div><div class=\"wandb-col\">\n",
              "<h3>Run summary:</h3><br/><table class=\"wandb\"><tr><td>train_epoch_accuracy</td><td>0.56211</td></tr><tr><td>train_epoch_f1</td><td>0.48279</td></tr><tr><td>train_epoch_loss</td><td>1.18502</td></tr><tr><td>train_epoch_precision</td><td>0.51307</td></tr><tr><td>train_epoch_recall</td><td>0.54573</td></tr><tr><td>val_acccuracy</td><td>72.0</td></tr><tr><td>val_epoch_accuracy</td><td>0.48</td></tr><tr><td>val_epoch_f1</td><td>0.29365</td></tr><tr><td>val_epoch_loss</td><td>1.20983</td></tr><tr><td>val_epoch_precision</td><td>0.30667</td></tr><tr><td>val_epoch_recall</td><td>0.35</td></tr><tr><td>val_loss_</td><td>1.2171</td></tr></table>\n",
              "</div></div>\n",
              "Synced 5 W&B file(s), 6 media file(s), 1 artifact file(s) and 0 other file(s)\n",
              "<br/>Synced <strong style=\"color:#cdcd00\">azure-galaxy-26</strong>: <a href=\"https://wandb.ai/dudeperf3ct/cnn3d/runs/3fhuznt4\" target=\"_blank\">https://wandb.ai/dudeperf3ct/cnn3d/runs/3fhuznt4</a><br/>\n",
              "Find logs at: <code>./wandb/run-20211112_044753-3fhuznt4/logs</code><br/>\n"
            ],
            "text/plain": [
              "<IPython.core.display.HTML object>"
            ]
          },
          "metadata": {}
        },
        {
          "output_type": "display_data",
          "data": {
            "text/html": [
              "Successfully finished last run (ID:3fhuznt4). Initializing new run:<br/>"
            ],
            "text/plain": [
              "<IPython.core.display.HTML object>"
            ]
          },
          "metadata": {}
        },
        {
          "output_type": "display_data",
          "data": {
            "text/html": [
              "\n",
              "                    Syncing run <strong><a href=\"https://wandb.ai/dudeperf3ct/cnn3d/runs/k8f043sn\" target=\"_blank\">usual-feather-27</a></strong> to <a href=\"https://wandb.ai/dudeperf3ct/cnn3d\" target=\"_blank\">Weights & Biases</a> (<a href=\"https://docs.wandb.com/integrations/jupyter.html\" target=\"_blank\">docs</a>).<br/>\n",
              "\n",
              "                "
            ],
            "text/plain": [
              "<IPython.core.display.HTML object>"
            ]
          },
          "metadata": {}
        },
        {
          "output_type": "stream",
          "name": "stderr",
          "text": [
            "--------------------------------------------------------------------------------\n",
            "\u001b[34m\u001b[1mHyperparameters: \u001b[0m\n",
            "--------------------------------------------------------------------------------\n",
            "Saved model not found at experiments/cnn3d/resnet18/models/resnet18_cnn3d.pth\n"
          ]
        },
        {
          "output_type": "stream",
          "name": "stdout",
          "text": [
            "{'batch_size': 5,\n",
            " 'embed_size': 128,\n",
            " 'epochs': 15,\n",
            " 'feature_extract': False,\n",
            " 'finetune_layer': -1,\n",
            " 'folds': -1,\n",
            " 'height': 384,\n",
            " 'input_channels': 3,\n",
            " 'learning_rate': 0.0001,\n",
            " 'means': [0.7743833848427648, 0.7983912274706353, 0.8350704625255623],\n",
            " 'model_name': 'resnet18',\n",
            " 'num_classes': 3,\n",
            " 'num_workers': 2,\n",
            " 'optimizer': 'AdamW',\n",
            " 'root_dir': 'dataset/round_all/all',\n",
            " 'save_model_path': 'experiments/cnn3d/resnet18/models/resnet18_cnn3d.pth',\n",
            " 'scheduler': 'OneCycleLR',\n",
            " 'seed': 42,\n",
            " 'stds': [0.14612580442601508, 0.14797858700495264, 0.15152898017083147],\n",
            " 'test_split_ratio': 0.05,\n",
            " 'trained_model_path': None,\n",
            " 'use_pretrain': False,\n",
            " 'use_wandb': True,\n",
            " 'width': 384}\n"
          ]
        },
        {
          "output_type": "stream",
          "name": "stderr",
          "text": [
            "Label Encoding: ['0.0' '0.5' '1.0']\n",
            "Label Mapping: {0: '0.0', 1: '0.5', 2: '1.0'}\n",
            "Class weights for labels: [0.71530758 3.96825397 0.74074074]\n",
            "Loading data\n",
            "Training shape: (475,), (475,), (array([0, 1, 2]), array([221,  40, 214]))\n",
            "Validation shape: (25,), (25,), (array([0, 1, 2]), array([12,  2, 11]))\n",
            "\u001b[34m\u001b[1mStart training pretrained models\u001b[0m\n",
            "\n",
            "---------- EPOCH: 1 | 15 ----------\n",
            "\n",
            "train_loss: 1.28: 100%|██████████| 95/95 [02:27<00:00,  1.55s/it]\n",
            "\u001b[34m\u001b[1mPhase:\u001b[0m train | \u001b[34m\u001b[1mLoss\u001b[0m 1.2951 | \u001b[34m\u001b[1mAccuracy\u001b[0m 0.3537 | \u001b[34m\u001b[1mF1\u001b[0m 0.2409 | \u001b[34m\u001b[1mPrecision\u001b[0m 0.2285 | \u001b[34m\u001b[1mRecall\u001b[0m 0.3388\n",
            "val_loss: 1.21: 100%|██████████| 5/5 [00:03<00:00,  1.56it/s]\n",
            "Val acc improved from 0.0000 to 0.5200.\n",
            "\u001b[34m\u001b[1mPhase:\u001b[0m val | \u001b[34m\u001b[1mLoss\u001b[0m 1.1609 | \u001b[34m\u001b[1mAccuracy\u001b[0m 0.5200 | \u001b[34m\u001b[1mF1\u001b[0m 0.4422 | \u001b[34m\u001b[1mPrecision\u001b[0m 0.4333 | \u001b[34m\u001b[1mRecall\u001b[0m 0.5000\n",
            "\n",
            "---------- EPOCH: 2 | 15 ----------\n",
            "\n",
            "train_loss: 1.13: 100%|██████████| 95/95 [02:27<00:00,  1.55s/it]\n",
            "\u001b[34m\u001b[1mPhase:\u001b[0m train | \u001b[34m\u001b[1mLoss\u001b[0m 1.2677 | \u001b[34m\u001b[1mAccuracy\u001b[0m 0.3200 | \u001b[34m\u001b[1mF1\u001b[0m 0.2219 | \u001b[34m\u001b[1mPrecision\u001b[0m 0.2068 | \u001b[34m\u001b[1mRecall\u001b[0m 0.3136\n",
            "val_loss: 1.18: 100%|██████████| 5/5 [00:03<00:00,  1.62it/s]\n",
            "\u001b[34m\u001b[1mPhase:\u001b[0m val | \u001b[34m\u001b[1mLoss\u001b[0m 1.2889 | \u001b[34m\u001b[1mAccuracy\u001b[0m 0.5200 | \u001b[34m\u001b[1mF1\u001b[0m 0.4705 | \u001b[34m\u001b[1mPrecision\u001b[0m 0.5267 | \u001b[34m\u001b[1mRecall\u001b[0m 0.5417\n",
            "\n",
            "---------- EPOCH: 3 | 15 ----------\n",
            "\n",
            "train_loss: 1.38: 100%|██████████| 95/95 [02:27<00:00,  1.55s/it]\n",
            "\u001b[34m\u001b[1mPhase:\u001b[0m train | \u001b[34m\u001b[1mLoss\u001b[0m 1.2392 | \u001b[34m\u001b[1mAccuracy\u001b[0m 0.3853 | \u001b[34m\u001b[1mF1\u001b[0m 0.2854 | \u001b[34m\u001b[1mPrecision\u001b[0m 0.2749 | \u001b[34m\u001b[1mRecall\u001b[0m 0.3623\n",
            "val_loss: 1.17: 100%|██████████| 5/5 [00:03<00:00,  1.60it/s]\n",
            "\u001b[34m\u001b[1mPhase:\u001b[0m val | \u001b[34m\u001b[1mLoss\u001b[0m 1.2158 | \u001b[34m\u001b[1mAccuracy\u001b[0m 0.4800 | \u001b[34m\u001b[1mF1\u001b[0m 0.2730 | \u001b[34m\u001b[1mPrecision\u001b[0m 0.2267 | \u001b[34m\u001b[1mRecall\u001b[0m 0.3667\n",
            "\n",
            "---------- EPOCH: 4 | 15 ----------\n",
            "\n",
            "train_loss: 1.35: 100%|██████████| 95/95 [02:27<00:00,  1.55s/it]\n",
            "\u001b[34m\u001b[1mPhase:\u001b[0m train | \u001b[34m\u001b[1mLoss\u001b[0m 1.2279 | \u001b[34m\u001b[1mAccuracy\u001b[0m 0.4042 | \u001b[34m\u001b[1mF1\u001b[0m 0.3066 | \u001b[34m\u001b[1mPrecision\u001b[0m 0.3111 | \u001b[34m\u001b[1mRecall\u001b[0m 0.3727\n",
            "val_loss: 1.23: 100%|██████████| 5/5 [00:03<00:00,  1.61it/s]\n",
            "\u001b[34m\u001b[1mPhase:\u001b[0m val | \u001b[34m\u001b[1mLoss\u001b[0m 1.1554 | \u001b[34m\u001b[1mAccuracy\u001b[0m 0.5200 | \u001b[34m\u001b[1mF1\u001b[0m 0.3228 | \u001b[34m\u001b[1mPrecision\u001b[0m 0.3944 | \u001b[34m\u001b[1mRecall\u001b[0m 0.3156\n",
            "\n",
            "---------- EPOCH: 5 | 15 ----------\n",
            "\n",
            "train_loss: 1.15: 100%|██████████| 95/95 [02:27<00:00,  1.55s/it]\n",
            "\u001b[34m\u001b[1mPhase:\u001b[0m train | \u001b[34m\u001b[1mLoss\u001b[0m 1.2518 | \u001b[34m\u001b[1mAccuracy\u001b[0m 0.3705 | \u001b[34m\u001b[1mF1\u001b[0m 0.2650 | \u001b[34m\u001b[1mPrecision\u001b[0m 0.2556 | \u001b[34m\u001b[1mRecall\u001b[0m 0.3411\n",
            "val_loss: 1.12: 100%|██████████| 5/5 [00:03<00:00,  1.60it/s]\n",
            "\u001b[34m\u001b[1mPhase:\u001b[0m val | \u001b[34m\u001b[1mLoss\u001b[0m 1.2661 | \u001b[34m\u001b[1mAccuracy\u001b[0m 0.0800 | \u001b[34m\u001b[1mF1\u001b[0m 0.0571 | \u001b[34m\u001b[1mPrecision\u001b[0m 0.0667 | \u001b[34m\u001b[1mRecall\u001b[0m 0.0500\n",
            "\n",
            "---------- EPOCH: 6 | 15 ----------\n",
            "\n",
            "train_loss: 1.15: 100%|██████████| 95/95 [02:27<00:00,  1.55s/it]\n",
            "\u001b[34m\u001b[1mPhase:\u001b[0m train | \u001b[34m\u001b[1mLoss\u001b[0m 1.2249 | \u001b[34m\u001b[1mAccuracy\u001b[0m 0.4842 | \u001b[34m\u001b[1mF1\u001b[0m 0.3229 | \u001b[34m\u001b[1mPrecision\u001b[0m 0.3032 | \u001b[34m\u001b[1mRecall\u001b[0m 0.4247\n",
            "val_loss: 1.26: 100%|██████████| 5/5 [00:03<00:00,  1.63it/s]\n",
            "\u001b[34m\u001b[1mPhase:\u001b[0m val | \u001b[34m\u001b[1mLoss\u001b[0m 1.1904 | \u001b[34m\u001b[1mAccuracy\u001b[0m 0.4400 | \u001b[34m\u001b[1mF1\u001b[0m 0.3663 | \u001b[34m\u001b[1mPrecision\u001b[0m 0.4250 | \u001b[34m\u001b[1mRecall\u001b[0m 0.3933\n",
            "\n",
            "---------- EPOCH: 7 | 15 ----------\n",
            "\n",
            "train_loss: 1.26: 100%|██████████| 95/95 [02:27<00:00,  1.55s/it]\n",
            "\u001b[34m\u001b[1mPhase:\u001b[0m train | \u001b[34m\u001b[1mLoss\u001b[0m 1.2318 | \u001b[34m\u001b[1mAccuracy\u001b[0m 0.3853 | \u001b[34m\u001b[1mF1\u001b[0m 0.2742 | \u001b[34m\u001b[1mPrecision\u001b[0m 0.2757 | \u001b[34m\u001b[1mRecall\u001b[0m 0.3555\n",
            "val_loss: 1.15: 100%|██████████| 5/5 [00:03<00:00,  1.62it/s]\n",
            "\u001b[34m\u001b[1mPhase:\u001b[0m val | \u001b[34m\u001b[1mLoss\u001b[0m 1.2230 | \u001b[34m\u001b[1mAccuracy\u001b[0m 0.4800 | \u001b[34m\u001b[1mF1\u001b[0m 0.2730 | \u001b[34m\u001b[1mPrecision\u001b[0m 0.2267 | \u001b[34m\u001b[1mRecall\u001b[0m 0.3667\n",
            "\n",
            "---------- EPOCH: 8 | 15 ----------\n",
            "\n",
            "train_loss: 1.15: 100%|██████████| 95/95 [02:27<00:00,  1.56s/it]\n",
            "\u001b[34m\u001b[1mPhase:\u001b[0m train | \u001b[34m\u001b[1mLoss\u001b[0m 1.2362 | \u001b[34m\u001b[1mAccuracy\u001b[0m 0.4021 | \u001b[34m\u001b[1mF1\u001b[0m 0.2557 | \u001b[34m\u001b[1mPrecision\u001b[0m 0.2238 | \u001b[34m\u001b[1mRecall\u001b[0m 0.3635\n",
            "val_loss: 1.11: 100%|██████████| 5/5 [00:03<00:00,  1.63it/s]\n",
            "\u001b[34m\u001b[1mPhase:\u001b[0m val | \u001b[34m\u001b[1mLoss\u001b[0m 1.2207 | \u001b[34m\u001b[1mAccuracy\u001b[0m 0.4800 | \u001b[34m\u001b[1mF1\u001b[0m 0.2730 | \u001b[34m\u001b[1mPrecision\u001b[0m 0.2267 | \u001b[34m\u001b[1mRecall\u001b[0m 0.3667\n",
            "\n",
            "---------- EPOCH: 9 | 15 ----------\n",
            "\n",
            "train_loss: 1.21: 100%|██████████| 95/95 [02:28<00:00,  1.56s/it]\n",
            "\u001b[34m\u001b[1mPhase:\u001b[0m train | \u001b[34m\u001b[1mLoss\u001b[0m 1.2099 | \u001b[34m\u001b[1mAccuracy\u001b[0m 0.3537 | \u001b[34m\u001b[1mF1\u001b[0m 0.2731 | \u001b[34m\u001b[1mPrecision\u001b[0m 0.3039 | \u001b[34m\u001b[1mRecall\u001b[0m 0.2991\n",
            "val_loss: 1.13: 100%|██████████| 5/5 [00:03<00:00,  1.61it/s]\n",
            "Val acc improved from 0.5200 to 0.5600.\n",
            "\u001b[34m\u001b[1mPhase:\u001b[0m val | \u001b[34m\u001b[1mLoss\u001b[0m 1.2707 | \u001b[34m\u001b[1mAccuracy\u001b[0m 0.5600 | \u001b[34m\u001b[1mF1\u001b[0m 0.4203 | \u001b[34m\u001b[1mPrecision\u001b[0m 0.4500 | \u001b[34m\u001b[1mRecall\u001b[0m 0.4467\n",
            "\n",
            "---------- EPOCH: 10 | 15 ----------\n",
            "\n",
            "train_loss: 1.31: 100%|██████████| 95/95 [02:28<00:00,  1.56s/it]\n",
            "\u001b[34m\u001b[1mPhase:\u001b[0m train | \u001b[34m\u001b[1mLoss\u001b[0m 1.2173 | \u001b[34m\u001b[1mAccuracy\u001b[0m 0.4568 | \u001b[34m\u001b[1mF1\u001b[0m 0.3814 | \u001b[34m\u001b[1mPrecision\u001b[0m 0.4287 | \u001b[34m\u001b[1mRecall\u001b[0m 0.4094\n",
            "val_loss: 1.20: 100%|██████████| 5/5 [00:03<00:00,  1.63it/s]\n",
            "Val acc improved from 0.5600 to 0.6400.\n",
            "\u001b[34m\u001b[1mPhase:\u001b[0m val | \u001b[34m\u001b[1mLoss\u001b[0m 1.1812 | \u001b[34m\u001b[1mAccuracy\u001b[0m 0.6400 | \u001b[34m\u001b[1mF1\u001b[0m 0.5211 | \u001b[34m\u001b[1mPrecision\u001b[0m 0.6000 | \u001b[34m\u001b[1mRecall\u001b[0m 0.5467\n",
            "\n",
            "---------- EPOCH: 11 | 15 ----------\n",
            "\n",
            "train_loss: 1.26: 100%|██████████| 95/95 [02:28<00:00,  1.56s/it]\n",
            "\u001b[34m\u001b[1mPhase:\u001b[0m train | \u001b[34m\u001b[1mLoss\u001b[0m 1.2101 | \u001b[34m\u001b[1mAccuracy\u001b[0m 0.4232 | \u001b[34m\u001b[1mF1\u001b[0m 0.3003 | \u001b[34m\u001b[1mPrecision\u001b[0m 0.3020 | \u001b[34m\u001b[1mRecall\u001b[0m 0.3718\n",
            "val_loss: 1.11: 100%|██████████| 5/5 [00:03<00:00,  1.54it/s]\n",
            "\u001b[34m\u001b[1mPhase:\u001b[0m val | \u001b[34m\u001b[1mLoss\u001b[0m 1.1762 | \u001b[34m\u001b[1mAccuracy\u001b[0m 0.4400 | \u001b[34m\u001b[1mF1\u001b[0m 0.2311 | \u001b[34m\u001b[1mPrecision\u001b[0m 0.2667 | \u001b[34m\u001b[1mRecall\u001b[0m 0.2178\n",
            "\n",
            "---------- EPOCH: 12 | 15 ----------\n",
            "\n",
            "train_loss: 1.19: 100%|██████████| 95/95 [02:27<00:00,  1.56s/it]\n",
            "\u001b[34m\u001b[1mPhase:\u001b[0m train | \u001b[34m\u001b[1mLoss\u001b[0m 1.2083 | \u001b[34m\u001b[1mAccuracy\u001b[0m 0.4989 | \u001b[34m\u001b[1mF1\u001b[0m 0.4146 | \u001b[34m\u001b[1mPrecision\u001b[0m 0.4561 | \u001b[34m\u001b[1mRecall\u001b[0m 0.4473\n",
            "val_loss: 1.04: 100%|██████████| 5/5 [00:03<00:00,  1.58it/s]\n",
            "\u001b[34m\u001b[1mPhase:\u001b[0m val | \u001b[34m\u001b[1mLoss\u001b[0m 1.2024 | \u001b[34m\u001b[1mAccuracy\u001b[0m 0.4400 | \u001b[34m\u001b[1mF1\u001b[0m 0.2914 | \u001b[34m\u001b[1mPrecision\u001b[0m 0.3444 | \u001b[34m\u001b[1mRecall\u001b[0m 0.2744\n",
            "\n",
            "---------- EPOCH: 13 | 15 ----------\n",
            "\n",
            "train_loss: 1.23: 100%|██████████| 95/95 [02:27<00:00,  1.55s/it]\n",
            "\u001b[34m\u001b[1mPhase:\u001b[0m train | \u001b[34m\u001b[1mLoss\u001b[0m 1.2164 | \u001b[34m\u001b[1mAccuracy\u001b[0m 0.2674 | \u001b[34m\u001b[1mF1\u001b[0m 0.2017 | \u001b[34m\u001b[1mPrecision\u001b[0m 0.2088 | \u001b[34m\u001b[1mRecall\u001b[0m 0.2414\n",
            "val_loss: 1.13: 100%|██████████| 5/5 [00:03<00:00,  1.60it/s]\n",
            "\u001b[34m\u001b[1mPhase:\u001b[0m val | \u001b[34m\u001b[1mLoss\u001b[0m 1.1943 | \u001b[34m\u001b[1mAccuracy\u001b[0m 0.5600 | \u001b[34m\u001b[1mF1\u001b[0m 0.4502 | \u001b[34m\u001b[1mPrecision\u001b[0m 0.4722 | \u001b[34m\u001b[1mRecall\u001b[0m 0.4717\n",
            "\n",
            "---------- EPOCH: 14 | 15 ----------\n",
            "\n",
            "train_loss: 1.22: 100%|██████████| 95/95 [02:27<00:00,  1.56s/it]\n",
            "\u001b[34m\u001b[1mPhase:\u001b[0m train | \u001b[34m\u001b[1mLoss\u001b[0m 1.2079 | \u001b[34m\u001b[1mAccuracy\u001b[0m 0.5095 | \u001b[34m\u001b[1mF1\u001b[0m 0.3976 | \u001b[34m\u001b[1mPrecision\u001b[0m 0.4143 | \u001b[34m\u001b[1mRecall\u001b[0m 0.4773\n",
            "val_loss: 1.11: 100%|██████████| 5/5 [00:03<00:00,  1.60it/s]\n",
            "\u001b[34m\u001b[1mPhase:\u001b[0m val | \u001b[34m\u001b[1mLoss\u001b[0m 1.2035 | \u001b[34m\u001b[1mAccuracy\u001b[0m 0.5600 | \u001b[34m\u001b[1mF1\u001b[0m 0.4467 | \u001b[34m\u001b[1mPrecision\u001b[0m 0.5361 | \u001b[34m\u001b[1mRecall\u001b[0m 0.4828\n",
            "\n",
            "---------- EPOCH: 15 | 15 ----------\n",
            "\n",
            "train_loss: 1.16: 100%|██████████| 95/95 [02:27<00:00,  1.56s/it]\n",
            "\u001b[34m\u001b[1mPhase:\u001b[0m train | \u001b[34m\u001b[1mLoss\u001b[0m 1.2105 | \u001b[34m\u001b[1mAccuracy\u001b[0m 0.4105 | \u001b[34m\u001b[1mF1\u001b[0m 0.3506 | \u001b[34m\u001b[1mPrecision\u001b[0m 0.3849 | \u001b[34m\u001b[1mRecall\u001b[0m 0.3949\n",
            "val_loss: 1.16: 100%|██████████| 5/5 [00:03<00:00,  1.56it/s]\n",
            "\u001b[34m\u001b[1mPhase:\u001b[0m val | \u001b[34m\u001b[1mLoss\u001b[0m 1.2363 | \u001b[34m\u001b[1mAccuracy\u001b[0m 0.4400 | \u001b[34m\u001b[1mF1\u001b[0m 0.3444 | \u001b[34m\u001b[1mPrecision\u001b[0m 0.3667 | \u001b[34m\u001b[1mRecall\u001b[0m 0.3800\n",
            "Training complete in 37m 43s\n",
            "\u001b[34m\u001b[1mBest val Acc: 0.640000\u001b[0m\n",
            "Saving best pretrained model at experiments/cnn3d/resnet18/models/resnet18_cnn3d.pth\n",
            "test_loss: 1.20: 100%|██████████| 5/5 [00:03<00:00,  1.38it/s]\n"
          ]
        },
        {
          "output_type": "stream",
          "name": "stdout",
          "text": [
            "\u001b[34m\u001b[1mTest Loss:\u001b[0m 1.1812\n",
            "\n",
            "Test Accuracy of     0: 58.33% ( 7/12)\n",
            "Test Accuracy of     1: 0.00% ( 0/ 2)\n",
            "Test Accuracy of     2: 81.82% ( 9/11)\n",
            "\n",
            " \u001b[34m\u001b[1mTest Accuracy (Overall):\u001b[0m  64.00% (16/25)\n",
            "\n",
            " \u001b[34m\u001b[1mConfusion Matrix\u001b[0m \n",
            " [[7. 0. 5.]\n",
            " [1. 0. 1.]\n",
            " [2. 0. 9.]]\n"
          ]
        },
        {
          "output_type": "display_data",
          "data": {
            "image/png": "[encoded data removed]",
            "text/plain": [
              "<Figure size 576x432 with 2 Axes>"
            ]
          },
          "metadata": {
            "needs_background": "light"
          }
        },
        {
          "output_type": "stream",
          "name": "stdout",
          "text": [
            "\n",
            " \u001b[34m\u001b[1mClassification Report\u001b[0m \n",
            "               precision    recall  f1-score   support\n",
            "\n",
            "           0       0.70      0.58      0.64        12\n",
            "           1       0.00      0.00      0.00         2\n",
            "           2       0.60      0.82      0.69        11\n",
            "\n",
            "    accuracy                           0.64        25\n",
            "   macro avg       0.43      0.47      0.44        25\n",
            "weighted avg       0.60      0.64      0.61        25\n",
            "\n"
          ]
        },
        {
          "output_type": "error",
          "ename": "StopIteration",
          "evalue": "ignored",
          "traceback": [
            "\u001b[0;31m---------------------------------------------------------------------------\u001b[0m",
            "\u001b[0;31mStopIteration\u001b[0m                             Traceback (most recent call last)",
            "\u001b[0;32m/content/diamond-clarity/main.py\u001b[0m in \u001b[0;36m<module>\u001b[0;34m()\u001b[0m\n\u001b[1;32m     14\u001b[0m     \u001b[0;31m# perform simple training\u001b[0m\u001b[0;34m\u001b[0m\u001b[0;34m\u001b[0m\u001b[0;34m\u001b[0m\u001b[0m\n\u001b[1;32m     15\u001b[0m     \u001b[0;32melse\u001b[0m\u001b[0;34m:\u001b[0m\u001b[0;34m\u001b[0m\u001b[0;34m\u001b[0m\u001b[0m\n\u001b[0;32m---> 16\u001b[0;31m         \u001b[0mmodel\u001b[0m\u001b[0;34m.\u001b[0m\u001b[0mtrain\u001b[0m\u001b[0;34m(\u001b[0m\u001b[0mtrain_df\u001b[0m\u001b[0;34m)\u001b[0m\u001b[0;34m\u001b[0m\u001b[0;34m\u001b[0m\u001b[0m\n\u001b[0m",
            "\u001b[0;32m/content/diamond-clarity/train.py\u001b[0m in \u001b[0;36mtrain\u001b[0;34m(self, train_df)\u001b[0m\n\u001b[1;32m    383\u001b[0m             \u001b[0mlogging\u001b[0m\u001b[0;34m.\u001b[0m\u001b[0minfo\u001b[0m\u001b[0;34m(\u001b[0m\u001b[0mcolorstr\u001b[0m\u001b[0;34m(\u001b[0m\u001b[0;34m\"Start finetuning pretrained model\"\u001b[0m\u001b[0;34m)\u001b[0m\u001b[0;34m)\u001b[0m\u001b[0;34m\u001b[0m\u001b[0;34m\u001b[0m\u001b[0m\n\u001b[1;32m    384\u001b[0m             \u001b[0m_\u001b[0m \u001b[0;34m=\u001b[0m \u001b[0mself\u001b[0m\u001b[0;34m.\u001b[0m\u001b[0mtrain_finetune\u001b[0m\u001b[0;34m(\u001b[0m\u001b[0mcws\u001b[0m\u001b[0;34m,\u001b[0m \u001b[0mtrain_loader_length\u001b[0m\u001b[0;34m,\u001b[0m \u001b[0mdataloaders_dict\u001b[0m\u001b[0;34m)\u001b[0m\u001b[0;34m\u001b[0m\u001b[0;34m\u001b[0m\u001b[0m\n\u001b[0;32m--> 385\u001b[0;31m         \u001b[0mself\u001b[0m\u001b[0;34m.\u001b[0m\u001b[0mevaluate\u001b[0m\u001b[0;34m(\u001b[0m\u001b[0mval_loader\u001b[0m\u001b[0;34m,\u001b[0m \u001b[0mcws\u001b[0m\u001b[0;34m,\u001b[0m \u001b[0;32mTrue\u001b[0m\u001b[0;34m,\u001b[0m \u001b[0;32mFalse\u001b[0m\u001b[0;34m)\u001b[0m\u001b[0;34m\u001b[0m\u001b[0;34m\u001b[0m\u001b[0m\n\u001b[0m\u001b[1;32m    386\u001b[0m \u001b[0;34m\u001b[0m\u001b[0m\n\u001b[1;32m    387\u001b[0m     \u001b[0;32mdef\u001b[0m \u001b[0mevaluate\u001b[0m\u001b[0;34m(\u001b[0m\u001b[0mself\u001b[0m\u001b[0;34m,\u001b[0m \u001b[0mval_loader\u001b[0m\u001b[0;34m,\u001b[0m \u001b[0mcws\u001b[0m\u001b[0;34m,\u001b[0m \u001b[0mvis_prediction\u001b[0m\u001b[0;34m:\u001b[0m \u001b[0mbool\u001b[0m \u001b[0;34m=\u001b[0m \u001b[0;32mTrue\u001b[0m\u001b[0;34m,\u001b[0m \u001b[0mis_test\u001b[0m\u001b[0;34m:\u001b[0m \u001b[0mbool\u001b[0m \u001b[0;34m=\u001b[0m \u001b[0;32mFalse\u001b[0m\u001b[0;34m)\u001b[0m\u001b[0;34m:\u001b[0m\u001b[0;34m\u001b[0m\u001b[0;34m\u001b[0m\u001b[0m\n",
            "\u001b[0;32m/content/diamond-clarity/train.py\u001b[0m in \u001b[0;36mevaluate\u001b[0;34m(self, val_loader, cws, vis_prediction, is_test)\u001b[0m\n\u001b[1;32m    402\u001b[0m             \u001b[0mcriterion\u001b[0m \u001b[0;34m=\u001b[0m \u001b[0mnn\u001b[0m\u001b[0;34m.\u001b[0m\u001b[0mCrossEntropyLoss\u001b[0m\u001b[0;34m(\u001b[0m\u001b[0mweight\u001b[0m\u001b[0;34m=\u001b[0m\u001b[0mtorch\u001b[0m\u001b[0;34m.\u001b[0m\u001b[0mfrom_numpy\u001b[0m\u001b[0;34m(\u001b[0m\u001b[0mcws\u001b[0m\u001b[0;34m)\u001b[0m\u001b[0;34m.\u001b[0m\u001b[0mfloat\u001b[0m\u001b[0;34m(\u001b[0m\u001b[0;34m)\u001b[0m\u001b[0;34m,\u001b[0m \u001b[0mlabel_smoothing\u001b[0m\u001b[0;34m=\u001b[0m\u001b[0;36m0.1\u001b[0m\u001b[0;34m)\u001b[0m\u001b[0;34m.\u001b[0m\u001b[0mto\u001b[0m\u001b[0;34m(\u001b[0m\u001b[0mdevice\u001b[0m\u001b[0;34m)\u001b[0m\u001b[0;34m\u001b[0m\u001b[0;34m\u001b[0m\u001b[0m\n\u001b[1;32m    403\u001b[0m         test_model(self.save_model_path, val_loader, criterion, self.num_classes, self.classes, device, self.use_wandb,\n\u001b[0;32m--> 404\u001b[0;31m                    vis_prediction, self.means, self.stds, is_test)\n\u001b[0m\u001b[1;32m    405\u001b[0m \u001b[0;34m\u001b[0m\u001b[0m\n\u001b[1;32m    406\u001b[0m     \u001b[0;32mdef\u001b[0m \u001b[0mtrain_k_folds\u001b[0m\u001b[0;34m(\u001b[0m\u001b[0mself\u001b[0m\u001b[0;34m,\u001b[0m \u001b[0mtrain_df\u001b[0m\u001b[0;34m:\u001b[0m \u001b[0mpd\u001b[0m\u001b[0;34m.\u001b[0m\u001b[0mDataFrame\u001b[0m\u001b[0;34m)\u001b[0m\u001b[0;34m:\u001b[0m\u001b[0;34m\u001b[0m\u001b[0;34m\u001b[0m\u001b[0m\n",
            "\u001b[0;32m/content/diamond-clarity/evaluate.py\u001b[0m in \u001b[0;36mtest_model\u001b[0;34m(model_path, test_loader, criterion, num_classes, classes, device, use_wandb, vis_prediction, means, stds, is_test)\u001b[0m\n\u001b[1;32m    162\u001b[0m \u001b[0;34m\u001b[0m\u001b[0m\n\u001b[1;32m    163\u001b[0m     \u001b[0;32mif\u001b[0m \u001b[0mvis_prediction\u001b[0m\u001b[0;34m:\u001b[0m\u001b[0;34m\u001b[0m\u001b[0;34m\u001b[0m\u001b[0m\n\u001b[0;32m--> 164\u001b[0;31m         \u001b[0mfig\u001b[0m \u001b[0;34m=\u001b[0m \u001b[0mplot_predictions\u001b[0m\u001b[0;34m(\u001b[0m\u001b[0mmodel\u001b[0m\u001b[0;34m,\u001b[0m \u001b[0mtest_loader\u001b[0m\u001b[0;34m,\u001b[0m \u001b[0mdevice\u001b[0m\u001b[0;34m,\u001b[0m \u001b[0mclasses\u001b[0m\u001b[0;34m,\u001b[0m \u001b[0mmeans\u001b[0m\u001b[0;34m,\u001b[0m \u001b[0mstds\u001b[0m\u001b[0;34m)\u001b[0m\u001b[0;34m\u001b[0m\u001b[0;34m\u001b[0m\u001b[0m\n\u001b[0m\u001b[1;32m    165\u001b[0m         \u001b[0mplt\u001b[0m\u001b[0;34m.\u001b[0m\u001b[0mshow\u001b[0m\u001b[0;34m(\u001b[0m\u001b[0;34m)\u001b[0m\u001b[0;34m\u001b[0m\u001b[0;34m\u001b[0m\u001b[0m\n",
            "\u001b[0;32m/content/diamond-clarity/utils.py\u001b[0m in \u001b[0;36mplot_predictions\u001b[0;34m(model, test_loader, device, classes, means, stds)\u001b[0m\n\u001b[1;32m    162\u001b[0m     \u001b[0mimages\u001b[0m\u001b[0;34m,\u001b[0m \u001b[0mlabels\u001b[0m\u001b[0;34m,\u001b[0m \u001b[0mpreds\u001b[0m\u001b[0;34m,\u001b[0m \u001b[0mprobab\u001b[0m \u001b[0;34m=\u001b[0m \u001b[0;34m[\u001b[0m\u001b[0;34m]\u001b[0m\u001b[0;34m,\u001b[0m \u001b[0;34m[\u001b[0m\u001b[0;34m]\u001b[0m\u001b[0;34m,\u001b[0m \u001b[0;34m[\u001b[0m\u001b[0;34m]\u001b[0m\u001b[0;34m,\u001b[0m \u001b[0;34m[\u001b[0m\u001b[0;34m]\u001b[0m\u001b[0;34m\u001b[0m\u001b[0;34m\u001b[0m\u001b[0m\n\u001b[1;32m    163\u001b[0m     \u001b[0;32mfor\u001b[0m \u001b[0m_\u001b[0m \u001b[0;32min\u001b[0m \u001b[0mrange\u001b[0m\u001b[0;34m(\u001b[0m\u001b[0;36m20\u001b[0m\u001b[0;34m)\u001b[0m\u001b[0;34m:\u001b[0m\u001b[0;34m\u001b[0m\u001b[0;34m\u001b[0m\u001b[0m\n\u001b[0;32m--> 164\u001b[0;31m         \u001b[0mimg\u001b[0m\u001b[0;34m,\u001b[0m \u001b[0mlbl\u001b[0m \u001b[0;34m=\u001b[0m \u001b[0mdataiter\u001b[0m\u001b[0;34m.\u001b[0m\u001b[0mnext\u001b[0m\u001b[0;34m(\u001b[0m\u001b[0;34m)\u001b[0m\u001b[0;34m\u001b[0m\u001b[0;34m\u001b[0m\u001b[0m\n\u001b[0m\u001b[1;32m    165\u001b[0m         \u001b[0mimg\u001b[0m\u001b[0;34m,\u001b[0m \u001b[0mlbl\u001b[0m \u001b[0;34m=\u001b[0m \u001b[0mimg\u001b[0m\u001b[0;34m.\u001b[0m\u001b[0mto\u001b[0m\u001b[0;34m(\u001b[0m\u001b[0mdevice\u001b[0m\u001b[0;34m)\u001b[0m\u001b[0;34m,\u001b[0m \u001b[0mlbl\u001b[0m\u001b[0;34m.\u001b[0m\u001b[0mtolist\u001b[0m\u001b[0;34m(\u001b[0m\u001b[0;34m)\u001b[0m\u001b[0;34m\u001b[0m\u001b[0;34m\u001b[0m\u001b[0m\n\u001b[1;32m    166\u001b[0m         \u001b[0;32mwith\u001b[0m \u001b[0mtorch\u001b[0m\u001b[0;34m.\u001b[0m\u001b[0mno_grad\u001b[0m\u001b[0;34m(\u001b[0m\u001b[0;34m)\u001b[0m\u001b[0;34m:\u001b[0m\u001b[0;34m\u001b[0m\u001b[0;34m\u001b[0m\u001b[0m\n",
            "\u001b[0;32m/usr/local/lib/python3.7/dist-packages/torch/utils/data/dataloader.py\u001b[0m in \u001b[0;36m__next__\u001b[0;34m(self)\u001b[0m\n\u001b[1;32m    519\u001b[0m             \u001b[0;32mif\u001b[0m \u001b[0mself\u001b[0m\u001b[0;34m.\u001b[0m\u001b[0m_sampler_iter\u001b[0m \u001b[0;32mis\u001b[0m \u001b[0;32mNone\u001b[0m\u001b[0;34m:\u001b[0m\u001b[0;34m\u001b[0m\u001b[0;34m\u001b[0m\u001b[0m\n\u001b[1;32m    520\u001b[0m                 \u001b[0mself\u001b[0m\u001b[0;34m.\u001b[0m\u001b[0m_reset\u001b[0m\u001b[0;34m(\u001b[0m\u001b[0;34m)\u001b[0m\u001b[0;34m\u001b[0m\u001b[0;34m\u001b[0m\u001b[0m\n\u001b[0;32m--> 521\u001b[0;31m             \u001b[0mdata\u001b[0m \u001b[0;34m=\u001b[0m \u001b[0mself\u001b[0m\u001b[0;34m.\u001b[0m\u001b[0m_next_data\u001b[0m\u001b[0;34m(\u001b[0m\u001b[0;34m)\u001b[0m\u001b[0;34m\u001b[0m\u001b[0;34m\u001b[0m\u001b[0m\n\u001b[0m\u001b[1;32m    522\u001b[0m             \u001b[0mself\u001b[0m\u001b[0;34m.\u001b[0m\u001b[0m_num_yielded\u001b[0m \u001b[0;34m+=\u001b[0m \u001b[0;36m1\u001b[0m\u001b[0;34m\u001b[0m\u001b[0;34m\u001b[0m\u001b[0m\n\u001b[1;32m    523\u001b[0m             \u001b[0;32mif\u001b[0m \u001b[0mself\u001b[0m\u001b[0;34m.\u001b[0m\u001b[0m_dataset_kind\u001b[0m \u001b[0;34m==\u001b[0m \u001b[0m_DatasetKind\u001b[0m\u001b[0;34m.\u001b[0m\u001b[0mIterable\u001b[0m \u001b[0;32mand\u001b[0m\u001b[0;31m \u001b[0m\u001b[0;31m\\\u001b[0m\u001b[0;34m\u001b[0m\u001b[0;34m\u001b[0m\u001b[0m\n",
            "\u001b[0;32m/usr/local/lib/python3.7/dist-packages/torch/utils/data/dataloader.py\u001b[0m in \u001b[0;36m_next_data\u001b[0;34m(self)\u001b[0m\n\u001b[1;32m   1174\u001b[0m                 \u001b[0;32mif\u001b[0m \u001b[0;32mnot\u001b[0m \u001b[0mself\u001b[0m\u001b[0;34m.\u001b[0m\u001b[0m_persistent_workers\u001b[0m\u001b[0;34m:\u001b[0m\u001b[0;34m\u001b[0m\u001b[0;34m\u001b[0m\u001b[0m\n\u001b[1;32m   1175\u001b[0m                     \u001b[0mself\u001b[0m\u001b[0;34m.\u001b[0m\u001b[0m_shutdown_workers\u001b[0m\u001b[0;34m(\u001b[0m\u001b[0;34m)\u001b[0m\u001b[0;34m\u001b[0m\u001b[0;34m\u001b[0m\u001b[0m\n\u001b[0;32m-> 1176\u001b[0;31m                 \u001b[0;32mraise\u001b[0m \u001b[0mStopIteration\u001b[0m\u001b[0;34m\u001b[0m\u001b[0;34m\u001b[0m\u001b[0m\n\u001b[0m\u001b[1;32m   1177\u001b[0m \u001b[0;34m\u001b[0m\u001b[0m\n\u001b[1;32m   1178\u001b[0m             \u001b[0;31m# Now `self._rcvd_idx` is the batch index we want to fetch\u001b[0m\u001b[0;34m\u001b[0m\u001b[0;34m\u001b[0m\u001b[0;34m\u001b[0m\u001b[0m\n",
            "\u001b[0;31mStopIteration\u001b[0m: "
          ]
        }
      ]
    },
    {
      "cell_type": "code",
      "metadata": {
        "colab": {
          "base_uri": "https://localhost:8080/",
          "height": 1000
        },
        "id": "LGIOhC-2kL1e",
        "outputId": "dfbab616-ffb9-4e06-bac8-bb1b313a0b9c"
      },
      "source": [
        "%run main.py"
      ],
      "execution_count": null,
      "outputs": [
        {
          "output_type": "stream",
          "name": "stderr",
          "text": [
            "Creating a logging file at experiments/cnn3d/resnet10/resnet10.log\n",
            "Parent Directory experiments/cnn3d/resnet10 exists!!\n",
            "Creating models directory at experiments/cnn3d/resnet10/models\n",
            "\u001b[34m\u001b[1mwandb\u001b[0m: Currently logged in as: \u001b[33mdudeperf3ct\u001b[0m (use `wandb login --relogin` to force relogin)\n"
          ]
        },
        {
          "output_type": "display_data",
          "data": {
            "text/html": [
              "\n",
              "                    Syncing run <strong><a href=\"https://wandb.ai/dudeperf3ct/cnn3d/runs/1fd8zf1c\" target=\"_blank\">firm-rain-29</a></strong> to <a href=\"https://wandb.ai/dudeperf3ct/cnn3d\" target=\"_blank\">Weights & Biases</a> (<a href=\"https://docs.wandb.com/integrations/jupyter.html\" target=\"_blank\">docs</a>).<br/>\n",
              "\n",
              "                "
            ],
            "text/plain": [
              "<IPython.core.display.HTML object>"
            ]
          },
          "metadata": {}
        },
        {
          "output_type": "stream",
          "name": "stderr",
          "text": [
            "--------------------------------------------------------------------------------\n",
            "\u001b[34m\u001b[1mHyperparameters: \u001b[0m\n",
            "--------------------------------------------------------------------------------\n",
            "Found a model at experiments/cnn3d/resnet10/models/resnet10_cnn3d.pth\n"
          ]
        },
        {
          "output_type": "stream",
          "name": "stdout",
          "text": [
            "{'batch_size': 5,\n",
            " 'embed_size': 256,\n",
            " 'epochs': 15,\n",
            " 'feature_extract': False,\n",
            " 'finetune_layer': -1,\n",
            " 'folds': -1,\n",
            " 'height': 384,\n",
            " 'input_channels': 3,\n",
            " 'learning_rate': 0.0001,\n",
            " 'means': [0.7743833848427648, 0.7983912274706353, 0.8350704625255623],\n",
            " 'model_name': 'resnet10',\n",
            " 'num_classes': 3,\n",
            " 'num_workers': 2,\n",
            " 'optimizer': 'AdamW',\n",
            " 'root_dir': 'dataset/round_all/all',\n",
            " 'save_model_path': 'experiments/cnn3d/resnet10/models/resnet10_cnn3d.pth',\n",
            " 'scheduler': 'OneCycleLR',\n",
            " 'seed': 42,\n",
            " 'stds': [0.14612580442601508, 0.14797858700495264, 0.15152898017083147],\n",
            " 'test_split_ratio': 0.05,\n",
            " 'trained_model_path': None,\n",
            " 'use_pretrain': False,\n",
            " 'use_wandb': True,\n",
            " 'width': 384}\n"
          ]
        },
        {
          "output_type": "stream",
          "name": "stderr",
          "text": [
            "Label Encoding: ['0.0' '0.5' '1.0']\n",
            "Label Mapping: {0: '0.0', 1: '0.5', 2: '1.0'}\n",
            "Class weights for labels: [0.71530758 3.96825397 0.74074074]\n",
            "Loading data\n",
            "Training shape: (475,), (475,), (array([0, 1, 2]), array([221,  40, 214]))\n",
            "Validation shape: (25,), (25,), (array([0, 1, 2]), array([12,  2, 11]))\n",
            "\u001b[34m\u001b[1mStart training pretrained models\u001b[0m\n",
            "\n",
            "---------- EPOCH: 1 | 15 ----------\n",
            "\n",
            "train_loss: 1.20: 100%|██████████| 95/95 [01:36<00:00,  1.01s/it]\n",
            "\u001b[34m\u001b[1mPhase:\u001b[0m train | \u001b[34m\u001b[1mLoss\u001b[0m 1.2981 | \u001b[34m\u001b[1mAccuracy\u001b[0m 0.3558 | \u001b[34m\u001b[1mF1\u001b[0m 0.2374 | \u001b[34m\u001b[1mPrecision\u001b[0m 0.2115 | \u001b[34m\u001b[1mRecall\u001b[0m 0.3436\n",
            "val_loss: 1.20: 100%|██████████| 5/5 [00:02<00:00,  2.06it/s]\n",
            "Val acc improved from 0.0000 to 0.4400.\n",
            "\u001b[34m\u001b[1mPhase:\u001b[0m val | \u001b[34m\u001b[1mLoss\u001b[0m 1.2198 | \u001b[34m\u001b[1mAccuracy\u001b[0m 0.4400 | \u001b[34m\u001b[1mF1\u001b[0m 0.2341 | \u001b[34m\u001b[1mPrecision\u001b[0m 0.1967 | \u001b[34m\u001b[1mRecall\u001b[0m 0.3167\n",
            "\n",
            "---------- EPOCH: 2 | 15 ----------\n",
            "\n",
            "train_loss: 1.14: 100%|██████████| 95/95 [01:36<00:00,  1.02s/it]\n",
            "\u001b[34m\u001b[1mPhase:\u001b[0m train | \u001b[34m\u001b[1mLoss\u001b[0m 1.2259 | \u001b[34m\u001b[1mAccuracy\u001b[0m 0.4421 | \u001b[34m\u001b[1mF1\u001b[0m 0.3190 | \u001b[34m\u001b[1mPrecision\u001b[0m 0.3154 | \u001b[34m\u001b[1mRecall\u001b[0m 0.3996\n",
            "val_loss: 1.26: 100%|██████████| 5/5 [00:02<00:00,  2.04it/s]\n",
            "\u001b[34m\u001b[1mPhase:\u001b[0m val | \u001b[34m\u001b[1mLoss\u001b[0m 1.2449 | \u001b[34m\u001b[1mAccuracy\u001b[0m 0.4400 | \u001b[34m\u001b[1mF1\u001b[0m 0.3464 | \u001b[34m\u001b[1mPrecision\u001b[0m 0.3067 | \u001b[34m\u001b[1mRecall\u001b[0m 0.4667\n",
            "\n",
            "---------- EPOCH: 3 | 15 ----------\n",
            "\n",
            "train_loss: 1.14: 100%|██████████| 95/95 [01:37<00:00,  1.02s/it]\n",
            "\u001b[34m\u001b[1mPhase:\u001b[0m train | \u001b[34m\u001b[1mLoss\u001b[0m 1.2267 | \u001b[34m\u001b[1mAccuracy\u001b[0m 0.2674 | \u001b[34m\u001b[1mF1\u001b[0m 0.1884 | \u001b[34m\u001b[1mPrecision\u001b[0m 0.1834 | \u001b[34m\u001b[1mRecall\u001b[0m 0.2657\n",
            "val_loss: 1.16: 100%|██████████| 5/5 [00:02<00:00,  1.87it/s]\n",
            "\u001b[34m\u001b[1mPhase:\u001b[0m val | \u001b[34m\u001b[1mLoss\u001b[0m 1.2225 | \u001b[34m\u001b[1mAccuracy\u001b[0m 0.2000 | \u001b[34m\u001b[1mF1\u001b[0m 0.1181 | \u001b[34m\u001b[1mPrecision\u001b[0m 0.1500 | \u001b[34m\u001b[1mRecall\u001b[0m 0.1378\n",
            "\n",
            "---------- EPOCH: 4 | 15 ----------\n",
            "\n",
            "train_loss: 1.22: 100%|██████████| 95/95 [01:37<00:00,  1.02s/it]\n",
            "\u001b[34m\u001b[1mPhase:\u001b[0m train | \u001b[34m\u001b[1mLoss\u001b[0m 1.2182 | \u001b[34m\u001b[1mAccuracy\u001b[0m 0.4274 | \u001b[34m\u001b[1mF1\u001b[0m 0.3494 | \u001b[34m\u001b[1mPrecision\u001b[0m 0.3782 | \u001b[34m\u001b[1mRecall\u001b[0m 0.3956\n",
            "val_loss: 1.09: 100%|██████████| 5/5 [00:02<00:00,  1.85it/s]\n",
            "\u001b[34m\u001b[1mPhase:\u001b[0m val | \u001b[34m\u001b[1mLoss\u001b[0m 1.2074 | \u001b[34m\u001b[1mAccuracy\u001b[0m 0.1600 | \u001b[34m\u001b[1mF1\u001b[0m 0.1156 | \u001b[34m\u001b[1mPrecision\u001b[0m 0.1967 | \u001b[34m\u001b[1mRecall\u001b[0m 0.1756\n",
            "\n",
            "---------- EPOCH: 5 | 15 ----------\n",
            "\n",
            "train_loss: 1.15: 100%|██████████| 95/95 [01:37<00:00,  1.02s/it]\n",
            "\u001b[34m\u001b[1mPhase:\u001b[0m train | \u001b[34m\u001b[1mLoss\u001b[0m 1.2119 | \u001b[34m\u001b[1mAccuracy\u001b[0m 0.4105 | \u001b[34m\u001b[1mF1\u001b[0m 0.3278 | \u001b[34m\u001b[1mPrecision\u001b[0m 0.3428 | \u001b[34m\u001b[1mRecall\u001b[0m 0.4008\n",
            "val_loss: 1.03: 100%|██████████| 5/5 [00:02<00:00,  1.86it/s]\n",
            "\u001b[34m\u001b[1mPhase:\u001b[0m val | \u001b[34m\u001b[1mLoss\u001b[0m 1.2048 | \u001b[34m\u001b[1mAccuracy\u001b[0m 0.3600 | \u001b[34m\u001b[1mF1\u001b[0m 0.2111 | \u001b[34m\u001b[1mPrecision\u001b[0m 0.1967 | \u001b[34m\u001b[1mRecall\u001b[0m 0.2583\n",
            "\n",
            "---------- EPOCH: 6 | 15 ----------\n",
            "\n",
            "train_loss: 1.18: 100%|██████████| 95/95 [01:37<00:00,  1.03s/it]\n",
            "\u001b[34m\u001b[1mPhase:\u001b[0m train | \u001b[34m\u001b[1mLoss\u001b[0m 1.2163 | \u001b[34m\u001b[1mAccuracy\u001b[0m 0.4168 | \u001b[34m\u001b[1mF1\u001b[0m 0.3368 | \u001b[34m\u001b[1mPrecision\u001b[0m 0.3704 | \u001b[34m\u001b[1mRecall\u001b[0m 0.3857\n",
            "val_loss: 1.19: 100%|██████████| 5/5 [00:02<00:00,  2.01it/s]\n",
            "Val acc improved from 0.4400 to 0.5200.\n",
            "\u001b[34m\u001b[1mPhase:\u001b[0m val | \u001b[34m\u001b[1mLoss\u001b[0m 1.2014 | \u001b[34m\u001b[1mAccuracy\u001b[0m 0.5200 | \u001b[34m\u001b[1mF1\u001b[0m 0.3837 | \u001b[34m\u001b[1mPrecision\u001b[0m 0.4417 | \u001b[34m\u001b[1mRecall\u001b[0m 0.4217\n",
            "\n",
            "---------- EPOCH: 7 | 15 ----------\n",
            "\n",
            "train_loss: 1.16: 100%|██████████| 95/95 [01:37<00:00,  1.02s/it]\n",
            "\u001b[34m\u001b[1mPhase:\u001b[0m train | \u001b[34m\u001b[1mLoss\u001b[0m 1.2177 | \u001b[34m\u001b[1mAccuracy\u001b[0m 0.3726 | \u001b[34m\u001b[1mF1\u001b[0m 0.3123 | \u001b[34m\u001b[1mPrecision\u001b[0m 0.3397 | \u001b[34m\u001b[1mRecall\u001b[0m 0.3677\n",
            "val_loss: 1.23: 100%|██████████| 5/5 [00:02<00:00,  2.02it/s]\n",
            "\u001b[34m\u001b[1mPhase:\u001b[0m val | \u001b[34m\u001b[1mLoss\u001b[0m 1.2152 | \u001b[34m\u001b[1mAccuracy\u001b[0m 0.4400 | \u001b[34m\u001b[1mF1\u001b[0m 0.3464 | \u001b[34m\u001b[1mPrecision\u001b[0m 0.3067 | \u001b[34m\u001b[1mRecall\u001b[0m 0.4667\n",
            "\n",
            "---------- EPOCH: 8 | 15 ----------\n",
            "\n",
            "train_loss: 1.21: 100%|██████████| 95/95 [01:36<00:00,  1.02s/it]\n",
            "\u001b[34m\u001b[1mPhase:\u001b[0m train | \u001b[34m\u001b[1mLoss\u001b[0m 1.2060 | \u001b[34m\u001b[1mAccuracy\u001b[0m 0.4926 | \u001b[34m\u001b[1mF1\u001b[0m 0.3545 | \u001b[34m\u001b[1mPrecision\u001b[0m 0.3402 | \u001b[34m\u001b[1mRecall\u001b[0m 0.4501\n",
            "val_loss: 1.18: 100%|██████████| 5/5 [00:02<00:00,  2.04it/s]\n",
            "\u001b[34m\u001b[1mPhase:\u001b[0m val | \u001b[34m\u001b[1mLoss\u001b[0m 1.2167 | \u001b[34m\u001b[1mAccuracy\u001b[0m 0.3200 | \u001b[34m\u001b[1mF1\u001b[0m 0.2100 | \u001b[34m\u001b[1mPrecision\u001b[0m 0.2044 | \u001b[34m\u001b[1mRecall\u001b[0m 0.2600\n",
            "\n",
            "---------- EPOCH: 9 | 15 ----------\n",
            "\n",
            "train_loss: 1.11: 100%|██████████| 95/95 [01:36<00:00,  1.01s/it]\n",
            "\u001b[34m\u001b[1mPhase:\u001b[0m train | \u001b[34m\u001b[1mLoss\u001b[0m 1.2007 | \u001b[34m\u001b[1mAccuracy\u001b[0m 0.4758 | \u001b[34m\u001b[1mF1\u001b[0m 0.3623 | \u001b[34m\u001b[1mPrecision\u001b[0m 0.3631 | \u001b[34m\u001b[1mRecall\u001b[0m 0.4369\n",
            "val_loss: 0.87: 100%|██████████| 5/5 [00:02<00:00,  2.07it/s]\n",
            "\u001b[34m\u001b[1mPhase:\u001b[0m val | \u001b[34m\u001b[1mLoss\u001b[0m 1.2709 | \u001b[34m\u001b[1mAccuracy\u001b[0m 0.2800 | \u001b[34m\u001b[1mF1\u001b[0m 0.1660 | \u001b[34m\u001b[1mPrecision\u001b[0m 0.1778 | \u001b[34m\u001b[1mRecall\u001b[0m 0.1750\n",
            "\n",
            "---------- EPOCH: 10 | 15 ----------\n",
            "\n",
            "train_loss: 1.07: 100%|██████████| 95/95 [01:37<00:00,  1.02s/it]\n",
            "\u001b[34m\u001b[1mPhase:\u001b[0m train | \u001b[34m\u001b[1mLoss\u001b[0m 1.1990 | \u001b[34m\u001b[1mAccuracy\u001b[0m 0.4168 | \u001b[34m\u001b[1mF1\u001b[0m 0.3244 | \u001b[34m\u001b[1mPrecision\u001b[0m 0.3546 | \u001b[34m\u001b[1mRecall\u001b[0m 0.3549\n",
            "val_loss: 1.13: 100%|██████████| 5/5 [00:02<00:00,  2.04it/s]\n",
            "\u001b[34m\u001b[1mPhase:\u001b[0m val | \u001b[34m\u001b[1mLoss\u001b[0m 1.1728 | \u001b[34m\u001b[1mAccuracy\u001b[0m 0.5200 | \u001b[34m\u001b[1mF1\u001b[0m 0.4024 | \u001b[34m\u001b[1mPrecision\u001b[0m 0.4583 | \u001b[34m\u001b[1mRecall\u001b[0m 0.4300\n",
            "\n",
            "---------- EPOCH: 11 | 15 ----------\n",
            "\n",
            "train_loss: 1.36: 100%|██████████| 95/95 [01:37<00:00,  1.02s/it]\n",
            "\u001b[34m\u001b[1mPhase:\u001b[0m train | \u001b[34m\u001b[1mLoss\u001b[0m 1.2052 | \u001b[34m\u001b[1mAccuracy\u001b[0m 0.4779 | \u001b[34m\u001b[1mF1\u001b[0m 0.3823 | \u001b[34m\u001b[1mPrecision\u001b[0m 0.4102 | \u001b[34m\u001b[1mRecall\u001b[0m 0.4329\n",
            "val_loss: 1.19: 100%|██████████| 5/5 [00:02<00:00,  2.01it/s]\n",
            "Val acc improved from 0.5200 to 0.6400.\n",
            "\u001b[34m\u001b[1mPhase:\u001b[0m val | \u001b[34m\u001b[1mLoss\u001b[0m 1.1786 | \u001b[34m\u001b[1mAccuracy\u001b[0m 0.6400 | \u001b[34m\u001b[1mF1\u001b[0m 0.5060 | \u001b[34m\u001b[1mPrecision\u001b[0m 0.5417 | \u001b[34m\u001b[1mRecall\u001b[0m 0.4967\n",
            "\n",
            "---------- EPOCH: 12 | 15 ----------\n",
            "\n",
            "train_loss: 1.26: 100%|██████████| 95/95 [01:36<00:00,  1.02s/it]\n",
            "\u001b[34m\u001b[1mPhase:\u001b[0m train | \u001b[34m\u001b[1mLoss\u001b[0m 1.2015 | \u001b[34m\u001b[1mAccuracy\u001b[0m 0.4379 | \u001b[34m\u001b[1mF1\u001b[0m 0.3238 | \u001b[34m\u001b[1mPrecision\u001b[0m 0.3313 | \u001b[34m\u001b[1mRecall\u001b[0m 0.3942\n",
            "val_loss: 1.12: 100%|██████████| 5/5 [00:02<00:00,  2.01it/s]\n",
            "\u001b[34m\u001b[1mPhase:\u001b[0m val | \u001b[34m\u001b[1mLoss\u001b[0m 1.2200 | \u001b[34m\u001b[1mAccuracy\u001b[0m 0.5600 | \u001b[34m\u001b[1mF1\u001b[0m 0.3917 | \u001b[34m\u001b[1mPrecision\u001b[0m 0.4250 | \u001b[34m\u001b[1mRecall\u001b[0m 0.4050\n",
            "\n",
            "---------- EPOCH: 13 | 15 ----------\n",
            "\n",
            "train_loss: 1.13: 100%|██████████| 95/95 [01:36<00:00,  1.01s/it]\n",
            "\u001b[34m\u001b[1mPhase:\u001b[0m train | \u001b[34m\u001b[1mLoss\u001b[0m 1.1992 | \u001b[34m\u001b[1mAccuracy\u001b[0m 0.4463 | \u001b[34m\u001b[1mF1\u001b[0m 0.3362 | \u001b[34m\u001b[1mPrecision\u001b[0m 0.3591 | \u001b[34m\u001b[1mRecall\u001b[0m 0.3830\n",
            "val_loss: 0.86: 100%|██████████| 5/5 [00:02<00:00,  2.10it/s]\n",
            "\u001b[34m\u001b[1mPhase:\u001b[0m val | \u001b[34m\u001b[1mLoss\u001b[0m 1.2185 | \u001b[34m\u001b[1mAccuracy\u001b[0m 0.5600 | \u001b[34m\u001b[1mF1\u001b[0m 0.4435 | \u001b[34m\u001b[1mPrecision\u001b[0m 0.4800 | \u001b[34m\u001b[1mRecall\u001b[0m 0.4717\n",
            "\n",
            "---------- EPOCH: 14 | 15 ----------\n",
            "\n",
            "train_loss: 1.12: 100%|██████████| 95/95 [01:36<00:00,  1.01s/it]\n",
            "\u001b[34m\u001b[1mPhase:\u001b[0m train | \u001b[34m\u001b[1mLoss\u001b[0m 1.1917 | \u001b[34m\u001b[1mAccuracy\u001b[0m 0.4716 | \u001b[34m\u001b[1mF1\u001b[0m 0.3656 | \u001b[34m\u001b[1mPrecision\u001b[0m 0.3889 | \u001b[34m\u001b[1mRecall\u001b[0m 0.4238\n",
            "val_loss: 1.13: 100%|██████████| 5/5 [00:02<00:00,  2.05it/s]\n",
            "\u001b[34m\u001b[1mPhase:\u001b[0m val | \u001b[34m\u001b[1mLoss\u001b[0m 1.2468 | \u001b[34m\u001b[1mAccuracy\u001b[0m 0.4000 | \u001b[34m\u001b[1mF1\u001b[0m 0.2406 | \u001b[34m\u001b[1mPrecision\u001b[0m 0.2544 | \u001b[34m\u001b[1mRecall\u001b[0m 0.3233\n",
            "\n",
            "---------- EPOCH: 15 | 15 ----------\n",
            "\n",
            "train_loss: 1.12: 100%|██████████| 95/95 [01:36<00:00,  1.02s/it]\n",
            "\u001b[34m\u001b[1mPhase:\u001b[0m train | \u001b[34m\u001b[1mLoss\u001b[0m 1.1802 | \u001b[34m\u001b[1mAccuracy\u001b[0m 0.5095 | \u001b[34m\u001b[1mF1\u001b[0m 0.4253 | \u001b[34m\u001b[1mPrecision\u001b[0m 0.4494 | \u001b[34m\u001b[1mRecall\u001b[0m 0.4494\n",
            "val_loss: 1.75: 100%|██████████| 5/5 [00:02<00:00,  2.09it/s]\n",
            "\u001b[34m\u001b[1mPhase:\u001b[0m val | \u001b[34m\u001b[1mLoss\u001b[0m 1.4210 | \u001b[34m\u001b[1mAccuracy\u001b[0m 0.4000 | \u001b[34m\u001b[1mF1\u001b[0m 0.2353 | \u001b[34m\u001b[1mPrecision\u001b[0m 0.2067 | \u001b[34m\u001b[1mRecall\u001b[0m 0.3467\n",
            "Training complete in 24m 51s\n",
            "\u001b[34m\u001b[1mBest val Acc: 0.640000\u001b[0m\n",
            "Saving best pretrained model at experiments/cnn3d/resnet10/models/resnet10_cnn3d.pth\n",
            "test_loss: 1.19: 100%|██████████| 5/5 [00:02<00:00,  1.67it/s]\n"
          ]
        },
        {
          "output_type": "stream",
          "name": "stdout",
          "text": [
            "\u001b[34m\u001b[1mTest Loss:\u001b[0m 1.1786\n",
            "\n",
            "Test Accuracy of     0: 66.67% ( 8/12)\n",
            "Test Accuracy of     1: 0.00% ( 0/ 2)\n",
            "Test Accuracy of     2: 72.73% ( 8/11)\n",
            "\n",
            " \u001b[34m\u001b[1mTest Accuracy (Overall):\u001b[0m  64.00% (16/25)\n",
            "\n",
            " \u001b[34m\u001b[1mConfusion Matrix\u001b[0m \n",
            " [[8. 0. 4.]\n",
            " [1. 0. 1.]\n",
            " [3. 0. 8.]]\n"
          ]
        },
        {
          "output_type": "display_data",
          "data": {
            "image/png": "[encoded data removed]",
            "text/plain": [
              "<Figure size 576x432 with 2 Axes>"
            ]
          },
          "metadata": {
            "needs_background": "light"
          }
        },
        {
          "output_type": "stream",
          "name": "stdout",
          "text": [
            "\n",
            " \u001b[34m\u001b[1mClassification Report\u001b[0m \n",
            "               precision    recall  f1-score   support\n",
            "\n",
            "           0       0.67      0.67      0.67        12\n",
            "           1       0.00      0.00      0.00         2\n",
            "           2       0.62      0.73      0.67        11\n",
            "\n",
            "    accuracy                           0.64        25\n",
            "   macro avg       0.43      0.46      0.44        25\n",
            "weighted avg       0.59      0.64      0.61        25\n",
            "\n"
          ]
        },
        {
          "output_type": "error",
          "ename": "StopIteration",
          "evalue": "ignored",
          "traceback": [
            "\u001b[0;31m---------------------------------------------------------------------------\u001b[0m",
            "\u001b[0;31mStopIteration\u001b[0m                             Traceback (most recent call last)",
            "\u001b[0;32m/content/diamond-clarity/main.py\u001b[0m in \u001b[0;36m<module>\u001b[0;34m()\u001b[0m\n\u001b[1;32m     14\u001b[0m     \u001b[0;31m# perform simple training\u001b[0m\u001b[0;34m\u001b[0m\u001b[0;34m\u001b[0m\u001b[0;34m\u001b[0m\u001b[0m\n\u001b[1;32m     15\u001b[0m     \u001b[0;32melse\u001b[0m\u001b[0;34m:\u001b[0m\u001b[0;34m\u001b[0m\u001b[0;34m\u001b[0m\u001b[0m\n\u001b[0;32m---> 16\u001b[0;31m         \u001b[0mmodel\u001b[0m\u001b[0;34m.\u001b[0m\u001b[0mtrain\u001b[0m\u001b[0;34m(\u001b[0m\u001b[0mtrain_df\u001b[0m\u001b[0;34m)\u001b[0m\u001b[0;34m\u001b[0m\u001b[0;34m\u001b[0m\u001b[0m\n\u001b[0m",
            "\u001b[0;32m/content/diamond-clarity/train.py\u001b[0m in \u001b[0;36mtrain\u001b[0;34m(self, train_df)\u001b[0m\n\u001b[1;32m    383\u001b[0m             \u001b[0mlogging\u001b[0m\u001b[0;34m.\u001b[0m\u001b[0minfo\u001b[0m\u001b[0;34m(\u001b[0m\u001b[0mcolorstr\u001b[0m\u001b[0;34m(\u001b[0m\u001b[0;34m\"Start finetuning pretrained model\"\u001b[0m\u001b[0;34m)\u001b[0m\u001b[0;34m)\u001b[0m\u001b[0;34m\u001b[0m\u001b[0;34m\u001b[0m\u001b[0m\n\u001b[1;32m    384\u001b[0m             \u001b[0m_\u001b[0m \u001b[0;34m=\u001b[0m \u001b[0mself\u001b[0m\u001b[0;34m.\u001b[0m\u001b[0mtrain_finetune\u001b[0m\u001b[0;34m(\u001b[0m\u001b[0mcws\u001b[0m\u001b[0;34m,\u001b[0m \u001b[0mtrain_loader_length\u001b[0m\u001b[0;34m,\u001b[0m \u001b[0mdataloaders_dict\u001b[0m\u001b[0;34m)\u001b[0m\u001b[0;34m\u001b[0m\u001b[0;34m\u001b[0m\u001b[0m\n\u001b[0;32m--> 385\u001b[0;31m         \u001b[0mself\u001b[0m\u001b[0;34m.\u001b[0m\u001b[0mevaluate\u001b[0m\u001b[0;34m(\u001b[0m\u001b[0mval_loader\u001b[0m\u001b[0;34m,\u001b[0m \u001b[0mcws\u001b[0m\u001b[0;34m,\u001b[0m \u001b[0;32mTrue\u001b[0m\u001b[0;34m,\u001b[0m \u001b[0;32mFalse\u001b[0m\u001b[0;34m)\u001b[0m\u001b[0;34m\u001b[0m\u001b[0;34m\u001b[0m\u001b[0m\n\u001b[0m\u001b[1;32m    386\u001b[0m \u001b[0;34m\u001b[0m\u001b[0m\n\u001b[1;32m    387\u001b[0m     \u001b[0;32mdef\u001b[0m \u001b[0mevaluate\u001b[0m\u001b[0;34m(\u001b[0m\u001b[0mself\u001b[0m\u001b[0;34m,\u001b[0m \u001b[0mval_loader\u001b[0m\u001b[0;34m,\u001b[0m \u001b[0mcws\u001b[0m\u001b[0;34m,\u001b[0m \u001b[0mvis_prediction\u001b[0m\u001b[0;34m:\u001b[0m \u001b[0mbool\u001b[0m \u001b[0;34m=\u001b[0m \u001b[0;32mTrue\u001b[0m\u001b[0;34m,\u001b[0m \u001b[0mis_test\u001b[0m\u001b[0;34m:\u001b[0m \u001b[0mbool\u001b[0m \u001b[0;34m=\u001b[0m \u001b[0;32mFalse\u001b[0m\u001b[0;34m)\u001b[0m\u001b[0;34m:\u001b[0m\u001b[0;34m\u001b[0m\u001b[0;34m\u001b[0m\u001b[0m\n",
            "\u001b[0;32m/content/diamond-clarity/train.py\u001b[0m in \u001b[0;36mevaluate\u001b[0;34m(self, val_loader, cws, vis_prediction, is_test)\u001b[0m\n\u001b[1;32m    402\u001b[0m             \u001b[0mcriterion\u001b[0m \u001b[0;34m=\u001b[0m \u001b[0mnn\u001b[0m\u001b[0;34m.\u001b[0m\u001b[0mCrossEntropyLoss\u001b[0m\u001b[0;34m(\u001b[0m\u001b[0mweight\u001b[0m\u001b[0;34m=\u001b[0m\u001b[0mtorch\u001b[0m\u001b[0;34m.\u001b[0m\u001b[0mfrom_numpy\u001b[0m\u001b[0;34m(\u001b[0m\u001b[0mcws\u001b[0m\u001b[0;34m)\u001b[0m\u001b[0;34m.\u001b[0m\u001b[0mfloat\u001b[0m\u001b[0;34m(\u001b[0m\u001b[0;34m)\u001b[0m\u001b[0;34m,\u001b[0m \u001b[0mlabel_smoothing\u001b[0m\u001b[0;34m=\u001b[0m\u001b[0;36m0.1\u001b[0m\u001b[0;34m)\u001b[0m\u001b[0;34m.\u001b[0m\u001b[0mto\u001b[0m\u001b[0;34m(\u001b[0m\u001b[0mdevice\u001b[0m\u001b[0;34m)\u001b[0m\u001b[0;34m\u001b[0m\u001b[0;34m\u001b[0m\u001b[0m\n\u001b[1;32m    403\u001b[0m         test_model(self.save_model_path, val_loader, criterion, self.num_classes, self.classes, device, self.use_wandb,\n\u001b[0;32m--> 404\u001b[0;31m                    vis_prediction, self.means, self.stds, is_test)\n\u001b[0m\u001b[1;32m    405\u001b[0m \u001b[0;34m\u001b[0m\u001b[0m\n\u001b[1;32m    406\u001b[0m     \u001b[0;32mdef\u001b[0m \u001b[0mtrain_k_folds\u001b[0m\u001b[0;34m(\u001b[0m\u001b[0mself\u001b[0m\u001b[0;34m,\u001b[0m \u001b[0mtrain_df\u001b[0m\u001b[0;34m:\u001b[0m \u001b[0mpd\u001b[0m\u001b[0;34m.\u001b[0m\u001b[0mDataFrame\u001b[0m\u001b[0;34m)\u001b[0m\u001b[0;34m:\u001b[0m\u001b[0;34m\u001b[0m\u001b[0;34m\u001b[0m\u001b[0m\n",
            "\u001b[0;32m/content/diamond-clarity/evaluate.py\u001b[0m in \u001b[0;36mtest_model\u001b[0;34m(model_path, test_loader, criterion, num_classes, classes, device, use_wandb, vis_prediction, means, stds, is_test)\u001b[0m\n\u001b[1;32m    162\u001b[0m \u001b[0;34m\u001b[0m\u001b[0m\n\u001b[1;32m    163\u001b[0m     \u001b[0;32mif\u001b[0m \u001b[0mvis_prediction\u001b[0m\u001b[0;34m:\u001b[0m\u001b[0;34m\u001b[0m\u001b[0;34m\u001b[0m\u001b[0m\n\u001b[0;32m--> 164\u001b[0;31m         \u001b[0mfig\u001b[0m \u001b[0;34m=\u001b[0m \u001b[0mplot_predictions\u001b[0m\u001b[0;34m(\u001b[0m\u001b[0mmodel\u001b[0m\u001b[0;34m,\u001b[0m \u001b[0mtest_loader\u001b[0m\u001b[0;34m,\u001b[0m \u001b[0mdevice\u001b[0m\u001b[0;34m,\u001b[0m \u001b[0mclasses\u001b[0m\u001b[0;34m,\u001b[0m \u001b[0mmeans\u001b[0m\u001b[0;34m,\u001b[0m \u001b[0mstds\u001b[0m\u001b[0;34m)\u001b[0m\u001b[0;34m\u001b[0m\u001b[0;34m\u001b[0m\u001b[0m\n\u001b[0m\u001b[1;32m    165\u001b[0m         \u001b[0mplt\u001b[0m\u001b[0;34m.\u001b[0m\u001b[0mshow\u001b[0m\u001b[0;34m(\u001b[0m\u001b[0;34m)\u001b[0m\u001b[0;34m\u001b[0m\u001b[0;34m\u001b[0m\u001b[0m\n",
            "\u001b[0;32m/content/diamond-clarity/utils.py\u001b[0m in \u001b[0;36mplot_predictions\u001b[0;34m(model, test_loader, device, classes, means, stds)\u001b[0m\n\u001b[1;32m    162\u001b[0m     \u001b[0mimages\u001b[0m\u001b[0;34m,\u001b[0m \u001b[0mlabels\u001b[0m\u001b[0;34m,\u001b[0m \u001b[0mpreds\u001b[0m\u001b[0;34m,\u001b[0m \u001b[0mprobab\u001b[0m \u001b[0;34m=\u001b[0m \u001b[0;34m[\u001b[0m\u001b[0;34m]\u001b[0m\u001b[0;34m,\u001b[0m \u001b[0;34m[\u001b[0m\u001b[0;34m]\u001b[0m\u001b[0;34m,\u001b[0m \u001b[0;34m[\u001b[0m\u001b[0;34m]\u001b[0m\u001b[0;34m,\u001b[0m \u001b[0;34m[\u001b[0m\u001b[0;34m]\u001b[0m\u001b[0;34m\u001b[0m\u001b[0;34m\u001b[0m\u001b[0m\n\u001b[1;32m    163\u001b[0m     \u001b[0;32mfor\u001b[0m \u001b[0m_\u001b[0m \u001b[0;32min\u001b[0m \u001b[0mrange\u001b[0m\u001b[0;34m(\u001b[0m\u001b[0;36m20\u001b[0m\u001b[0;34m)\u001b[0m\u001b[0;34m:\u001b[0m\u001b[0;34m\u001b[0m\u001b[0;34m\u001b[0m\u001b[0m\n\u001b[0;32m--> 164\u001b[0;31m         \u001b[0mimg\u001b[0m\u001b[0;34m,\u001b[0m \u001b[0mlbl\u001b[0m \u001b[0;34m=\u001b[0m \u001b[0mdataiter\u001b[0m\u001b[0;34m.\u001b[0m\u001b[0mnext\u001b[0m\u001b[0;34m(\u001b[0m\u001b[0;34m)\u001b[0m\u001b[0;34m\u001b[0m\u001b[0;34m\u001b[0m\u001b[0m\n\u001b[0m\u001b[1;32m    165\u001b[0m         \u001b[0mimg\u001b[0m\u001b[0;34m,\u001b[0m \u001b[0mlbl\u001b[0m \u001b[0;34m=\u001b[0m \u001b[0mimg\u001b[0m\u001b[0;34m.\u001b[0m\u001b[0mto\u001b[0m\u001b[0;34m(\u001b[0m\u001b[0mdevice\u001b[0m\u001b[0;34m)\u001b[0m\u001b[0;34m,\u001b[0m \u001b[0mlbl\u001b[0m\u001b[0;34m.\u001b[0m\u001b[0mtolist\u001b[0m\u001b[0;34m(\u001b[0m\u001b[0;34m)\u001b[0m\u001b[0;34m\u001b[0m\u001b[0;34m\u001b[0m\u001b[0m\n\u001b[1;32m    166\u001b[0m         \u001b[0;32mwith\u001b[0m \u001b[0mtorch\u001b[0m\u001b[0;34m.\u001b[0m\u001b[0mno_grad\u001b[0m\u001b[0;34m(\u001b[0m\u001b[0;34m)\u001b[0m\u001b[0;34m:\u001b[0m\u001b[0;34m\u001b[0m\u001b[0;34m\u001b[0m\u001b[0m\n",
            "\u001b[0;32m/usr/local/lib/python3.7/dist-packages/torch/utils/data/dataloader.py\u001b[0m in \u001b[0;36m__next__\u001b[0;34m(self)\u001b[0m\n\u001b[1;32m    519\u001b[0m             \u001b[0;32mif\u001b[0m \u001b[0mself\u001b[0m\u001b[0;34m.\u001b[0m\u001b[0m_sampler_iter\u001b[0m \u001b[0;32mis\u001b[0m \u001b[0;32mNone\u001b[0m\u001b[0;34m:\u001b[0m\u001b[0;34m\u001b[0m\u001b[0;34m\u001b[0m\u001b[0m\n\u001b[1;32m    520\u001b[0m                 \u001b[0mself\u001b[0m\u001b[0;34m.\u001b[0m\u001b[0m_reset\u001b[0m\u001b[0;34m(\u001b[0m\u001b[0;34m)\u001b[0m\u001b[0;34m\u001b[0m\u001b[0;34m\u001b[0m\u001b[0m\n\u001b[0;32m--> 521\u001b[0;31m             \u001b[0mdata\u001b[0m \u001b[0;34m=\u001b[0m \u001b[0mself\u001b[0m\u001b[0;34m.\u001b[0m\u001b[0m_next_data\u001b[0m\u001b[0;34m(\u001b[0m\u001b[0;34m)\u001b[0m\u001b[0;34m\u001b[0m\u001b[0;34m\u001b[0m\u001b[0m\n\u001b[0m\u001b[1;32m    522\u001b[0m             \u001b[0mself\u001b[0m\u001b[0;34m.\u001b[0m\u001b[0m_num_yielded\u001b[0m \u001b[0;34m+=\u001b[0m \u001b[0;36m1\u001b[0m\u001b[0;34m\u001b[0m\u001b[0;34m\u001b[0m\u001b[0m\n\u001b[1;32m    523\u001b[0m             \u001b[0;32mif\u001b[0m \u001b[0mself\u001b[0m\u001b[0;34m.\u001b[0m\u001b[0m_dataset_kind\u001b[0m \u001b[0;34m==\u001b[0m \u001b[0m_DatasetKind\u001b[0m\u001b[0;34m.\u001b[0m\u001b[0mIterable\u001b[0m \u001b[0;32mand\u001b[0m\u001b[0;31m \u001b[0m\u001b[0;31m\\\u001b[0m\u001b[0;34m\u001b[0m\u001b[0;34m\u001b[0m\u001b[0m\n",
            "\u001b[0;32m/usr/local/lib/python3.7/dist-packages/torch/utils/data/dataloader.py\u001b[0m in \u001b[0;36m_next_data\u001b[0;34m(self)\u001b[0m\n\u001b[1;32m   1174\u001b[0m                 \u001b[0;32mif\u001b[0m \u001b[0;32mnot\u001b[0m \u001b[0mself\u001b[0m\u001b[0;34m.\u001b[0m\u001b[0m_persistent_workers\u001b[0m\u001b[0;34m:\u001b[0m\u001b[0;34m\u001b[0m\u001b[0;34m\u001b[0m\u001b[0m\n\u001b[1;32m   1175\u001b[0m                     \u001b[0mself\u001b[0m\u001b[0;34m.\u001b[0m\u001b[0m_shutdown_workers\u001b[0m\u001b[0;34m(\u001b[0m\u001b[0;34m)\u001b[0m\u001b[0;34m\u001b[0m\u001b[0;34m\u001b[0m\u001b[0m\n\u001b[0;32m-> 1176\u001b[0;31m                 \u001b[0;32mraise\u001b[0m \u001b[0mStopIteration\u001b[0m\u001b[0;34m\u001b[0m\u001b[0;34m\u001b[0m\u001b[0m\n\u001b[0m\u001b[1;32m   1177\u001b[0m \u001b[0;34m\u001b[0m\u001b[0m\n\u001b[1;32m   1178\u001b[0m             \u001b[0;31m# Now `self._rcvd_idx` is the batch index we want to fetch\u001b[0m\u001b[0;34m\u001b[0m\u001b[0;34m\u001b[0m\u001b[0;34m\u001b[0m\u001b[0m\n",
            "\u001b[0;31mStopIteration\u001b[0m: "
          ]
        }
      ]
    },
    {
      "cell_type": "code",
      "metadata": {
        "id": "ve_SJjuP5dXT"
      },
      "source": [
        ""
      ],
      "execution_count": null,
      "outputs": []
    }
  ]
}